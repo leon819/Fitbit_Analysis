{
 "cells": [
  {
   "cell_type": "markdown",
   "id": "817c4dd2",
   "metadata": {},
   "source": [
    "# 1. Preparation - Data Understanding"
   ]
  },
  {
   "cell_type": "code",
   "execution_count": 1,
   "id": "f4a7470d",
   "metadata": {},
   "outputs": [],
   "source": [
    "# Import libraries for data prepartion\n",
    "import pandas as pd\n",
    "import numpy as np\n",
    "import datetime\n",
    "import matplotlib.pyplot as plt"
   ]
  },
  {
   "cell_type": "markdown",
   "id": "eac5b82e",
   "metadata": {},
   "source": [
    "# 2. Processing "
   ]
  },
  {
   "cell_type": "markdown",
   "id": "06566ca6",
   "metadata": {},
   "source": [
    "## 2.1 Import the datasets"
   ]
  },
  {
   "cell_type": "markdown",
   "id": "bf99fa54",
   "metadata": {},
   "source": [
    "I would like to analyze the activity patterns across the month in different hours during the day. Datasets that are too detailed such as changes per minute and per second might not provide much insights, so they are not selected."
   ]
  },
  {
   "cell_type": "code",
   "execution_count": 2,
   "id": "4f710582",
   "metadata": {},
   "outputs": [],
   "source": [
    "# Import relevant dataset\n",
    "daily_activity = pd.read_csv(\"Fitabase_Data_4.12.16-5.12.16/dailyActivity_merged.csv\")\n",
    "hourly_calories = pd.read_csv(\"Fitabase_Data_4.12.16-5.12.16/hourlyCalories_merged.csv\")\n",
    "hourly_intensities = pd.read_csv(\"Fitabase_Data_4.12.16-5.12.16/hourlyIntensities_merged.csv\")\n",
    "hourly_steps = pd.read_csv(\"Fitabase_Data_4.12.16-5.12.16/hourlySteps_merged.csv\")\n",
    "daily_sleep = pd.read_csv(\"Fitabase_Data_4.12.16-5.12.16/sleepDay_merged.csv\")\n",
    "weight_log = pd.read_csv(\"Fitabase_Data_4.12.16-5.12.16/weightLogInfo_merged.csv\")"
   ]
  },
  {
   "cell_type": "markdown",
   "id": "71a8ace8",
   "metadata": {},
   "source": [
    "## 2.2 Preview the data"
   ]
  },
  {
   "cell_type": "code",
   "execution_count": 3,
   "id": "b0af982a",
   "metadata": {},
   "outputs": [
    {
     "name": "stdout",
     "output_type": "stream",
     "text": [
      "<class 'pandas.core.frame.DataFrame'>\n",
      "RangeIndex: 940 entries, 0 to 939\n",
      "Data columns (total 15 columns):\n",
      " #   Column                    Non-Null Count  Dtype  \n",
      "---  ------                    --------------  -----  \n",
      " 0   Id                        940 non-null    int64  \n",
      " 1   ActivityDate              940 non-null    object \n",
      " 2   TotalSteps                940 non-null    int64  \n",
      " 3   TotalDistance             940 non-null    float64\n",
      " 4   TrackerDistance           940 non-null    float64\n",
      " 5   LoggedActivitiesDistance  940 non-null    float64\n",
      " 6   VeryActiveDistance        940 non-null    float64\n",
      " 7   ModeratelyActiveDistance  940 non-null    float64\n",
      " 8   LightActiveDistance       940 non-null    float64\n",
      " 9   SedentaryActiveDistance   940 non-null    float64\n",
      " 10  VeryActiveMinutes         940 non-null    int64  \n",
      " 11  FairlyActiveMinutes       940 non-null    int64  \n",
      " 12  LightlyActiveMinutes      940 non-null    int64  \n",
      " 13  SedentaryMinutes          940 non-null    int64  \n",
      " 14  Calories                  940 non-null    int64  \n",
      "dtypes: float64(7), int64(7), object(1)\n",
      "memory usage: 110.3+ KB\n",
      "\n",
      "=====================================\n",
      "\n",
      "<class 'pandas.core.frame.DataFrame'>\n",
      "RangeIndex: 22099 entries, 0 to 22098\n",
      "Data columns (total 3 columns):\n",
      " #   Column        Non-Null Count  Dtype \n",
      "---  ------        --------------  ----- \n",
      " 0   Id            22099 non-null  int64 \n",
      " 1   ActivityHour  22099 non-null  object\n",
      " 2   Calories      22099 non-null  int64 \n",
      "dtypes: int64(2), object(1)\n",
      "memory usage: 518.1+ KB\n",
      "\n",
      "=====================================\n",
      "\n",
      "<class 'pandas.core.frame.DataFrame'>\n",
      "RangeIndex: 22099 entries, 0 to 22098\n",
      "Data columns (total 4 columns):\n",
      " #   Column            Non-Null Count  Dtype  \n",
      "---  ------            --------------  -----  \n",
      " 0   Id                22099 non-null  int64  \n",
      " 1   ActivityHour      22099 non-null  object \n",
      " 2   TotalIntensity    22099 non-null  int64  \n",
      " 3   AverageIntensity  22099 non-null  float64\n",
      "dtypes: float64(1), int64(2), object(1)\n",
      "memory usage: 690.7+ KB\n",
      "\n",
      "=====================================\n",
      "\n",
      "<class 'pandas.core.frame.DataFrame'>\n",
      "RangeIndex: 22099 entries, 0 to 22098\n",
      "Data columns (total 3 columns):\n",
      " #   Column        Non-Null Count  Dtype \n",
      "---  ------        --------------  ----- \n",
      " 0   Id            22099 non-null  int64 \n",
      " 1   ActivityHour  22099 non-null  object\n",
      " 2   StepTotal     22099 non-null  int64 \n",
      "dtypes: int64(2), object(1)\n",
      "memory usage: 518.1+ KB\n",
      "\n",
      "=====================================\n",
      "\n",
      "<class 'pandas.core.frame.DataFrame'>\n",
      "RangeIndex: 413 entries, 0 to 412\n",
      "Data columns (total 5 columns):\n",
      " #   Column              Non-Null Count  Dtype \n",
      "---  ------              --------------  ----- \n",
      " 0   Id                  413 non-null    int64 \n",
      " 1   SleepDay            413 non-null    object\n",
      " 2   TotalSleepRecords   413 non-null    int64 \n",
      " 3   TotalMinutesAsleep  413 non-null    int64 \n",
      " 4   TotalTimeInBed      413 non-null    int64 \n",
      "dtypes: int64(4), object(1)\n",
      "memory usage: 16.3+ KB\n",
      "\n",
      "=====================================\n",
      "\n",
      "<class 'pandas.core.frame.DataFrame'>\n",
      "RangeIndex: 67 entries, 0 to 66\n",
      "Data columns (total 8 columns):\n",
      " #   Column          Non-Null Count  Dtype  \n",
      "---  ------          --------------  -----  \n",
      " 0   Id              67 non-null     int64  \n",
      " 1   Date            67 non-null     object \n",
      " 2   WeightKg        67 non-null     float64\n",
      " 3   WeightPounds    67 non-null     float64\n",
      " 4   Fat             2 non-null      float64\n",
      " 5   BMI             67 non-null     float64\n",
      " 6   IsManualReport  67 non-null     bool   \n",
      " 7   LogId           67 non-null     int64  \n",
      "dtypes: bool(1), float64(4), int64(2), object(1)\n",
      "memory usage: 3.9+ KB\n"
     ]
    }
   ],
   "source": [
    "# Information about datasets\n",
    "daily_activity.info()\n",
    "print(\"\\n=====================================\\n\")\n",
    "hourly_calories.info()\n",
    "print(\"\\n=====================================\\n\")\n",
    "hourly_intensities.info()\n",
    "print(\"\\n=====================================\\n\")\n",
    "hourly_steps.info()\n",
    "print(\"\\n=====================================\\n\")\n",
    "daily_sleep.info()\n",
    "print(\"\\n=====================================\\n\")\n",
    "weight_log.info()"
   ]
  },
  {
   "cell_type": "markdown",
   "id": "776feead",
   "metadata": {},
   "source": [
    "Check number of participants in each table by looking into number of unique ID:"
   ]
  },
  {
   "cell_type": "code",
   "execution_count": 4,
   "id": "866d1ce0",
   "metadata": {},
   "outputs": [
    {
     "name": "stdout",
     "output_type": "stream",
     "text": [
      "33 33 33 33 24 8\n"
     ]
    }
   ],
   "source": [
    "# Number of unique ID in each dataset\n",
    "print(daily_activity['Id'].nunique(),\n",
    "      hourly_calories['Id'].nunique(), \n",
    "      hourly_intensities['Id'].nunique(),\n",
    "      hourly_steps['Id'].nunique(),\n",
    "      daily_sleep['Id'].nunique(),\n",
    "      weight_log['Id'].nunique())"
   ]
  },
  {
   "cell_type": "markdown",
   "id": "e6fa618c",
   "metadata": {},
   "source": [
    "In the dataset weight_log, having only 8 participants are too few to provide reliable information, so the dataset will not be used."
   ]
  },
  {
   "cell_type": "markdown",
   "id": "f15e4c00",
   "metadata": {},
   "source": [
    "## 2.3 Data Cleaning"
   ]
  },
  {
   "cell_type": "markdown",
   "id": "224c469f",
   "metadata": {},
   "source": [
    "#### Formatting: Standardize date and time formats. By viewing the dataset in Excel, I discovered the date and time attributes are inconsistent. Therefore, we need to correctly standardized their formats so as to easily join different tables together.  "
   ]
  },
  {
   "cell_type": "code",
   "execution_count": 5,
   "id": "15a5b0b4",
   "metadata": {},
   "outputs": [
    {
     "data": {
      "text/html": [
       "<div>\n",
       "<style scoped>\n",
       "    .dataframe tbody tr th:only-of-type {\n",
       "        vertical-align: middle;\n",
       "    }\n",
       "\n",
       "    .dataframe tbody tr th {\n",
       "        vertical-align: top;\n",
       "    }\n",
       "\n",
       "    .dataframe thead th {\n",
       "        text-align: right;\n",
       "    }\n",
       "</style>\n",
       "<table border=\"1\" class=\"dataframe\">\n",
       "  <thead>\n",
       "    <tr style=\"text-align: right;\">\n",
       "      <th></th>\n",
       "      <th>Id</th>\n",
       "      <th>ActivityHour</th>\n",
       "      <th>Calories</th>\n",
       "    </tr>\n",
       "  </thead>\n",
       "  <tbody>\n",
       "    <tr>\n",
       "      <th>0</th>\n",
       "      <td>1503960366</td>\n",
       "      <td>4/12/2016 12:00:00 AM</td>\n",
       "      <td>81</td>\n",
       "    </tr>\n",
       "    <tr>\n",
       "      <th>1</th>\n",
       "      <td>1503960366</td>\n",
       "      <td>4/12/2016 1:00:00 AM</td>\n",
       "      <td>61</td>\n",
       "    </tr>\n",
       "    <tr>\n",
       "      <th>2</th>\n",
       "      <td>1503960366</td>\n",
       "      <td>4/12/2016 2:00:00 AM</td>\n",
       "      <td>59</td>\n",
       "    </tr>\n",
       "    <tr>\n",
       "      <th>3</th>\n",
       "      <td>1503960366</td>\n",
       "      <td>4/12/2016 3:00:00 AM</td>\n",
       "      <td>47</td>\n",
       "    </tr>\n",
       "    <tr>\n",
       "      <th>4</th>\n",
       "      <td>1503960366</td>\n",
       "      <td>4/12/2016 4:00:00 AM</td>\n",
       "      <td>48</td>\n",
       "    </tr>\n",
       "    <tr>\n",
       "      <th>5</th>\n",
       "      <td>1503960366</td>\n",
       "      <td>4/12/2016 5:00:00 AM</td>\n",
       "      <td>48</td>\n",
       "    </tr>\n",
       "    <tr>\n",
       "      <th>6</th>\n",
       "      <td>1503960366</td>\n",
       "      <td>4/12/2016 6:00:00 AM</td>\n",
       "      <td>48</td>\n",
       "    </tr>\n",
       "    <tr>\n",
       "      <th>7</th>\n",
       "      <td>1503960366</td>\n",
       "      <td>4/12/2016 7:00:00 AM</td>\n",
       "      <td>47</td>\n",
       "    </tr>\n",
       "    <tr>\n",
       "      <th>8</th>\n",
       "      <td>1503960366</td>\n",
       "      <td>4/12/2016 8:00:00 AM</td>\n",
       "      <td>68</td>\n",
       "    </tr>\n",
       "    <tr>\n",
       "      <th>9</th>\n",
       "      <td>1503960366</td>\n",
       "      <td>4/12/2016 9:00:00 AM</td>\n",
       "      <td>141</td>\n",
       "    </tr>\n",
       "  </tbody>\n",
       "</table>\n",
       "</div>"
      ],
      "text/plain": [
       "           Id           ActivityHour  Calories\n",
       "0  1503960366  4/12/2016 12:00:00 AM        81\n",
       "1  1503960366   4/12/2016 1:00:00 AM        61\n",
       "2  1503960366   4/12/2016 2:00:00 AM        59\n",
       "3  1503960366   4/12/2016 3:00:00 AM        47\n",
       "4  1503960366   4/12/2016 4:00:00 AM        48\n",
       "5  1503960366   4/12/2016 5:00:00 AM        48\n",
       "6  1503960366   4/12/2016 6:00:00 AM        48\n",
       "7  1503960366   4/12/2016 7:00:00 AM        47\n",
       "8  1503960366   4/12/2016 8:00:00 AM        68\n",
       "9  1503960366   4/12/2016 9:00:00 AM       141"
      ]
     },
     "execution_count": 5,
     "metadata": {},
     "output_type": "execute_result"
    }
   ],
   "source": [
    "hourly_calories.head(10)"
   ]
  },
  {
   "cell_type": "code",
   "execution_count": 6,
   "id": "0b239343",
   "metadata": {},
   "outputs": [],
   "source": [
    "# daily_activity\n",
    "daily_activity['ActivityDate'] = pd.to_datetime(daily_activity['ActivityDate'], format='%m/%d/%Y').dt.date\n",
    "\n",
    "# hourly_calories: split into date and time\n",
    "hourly_calories['ActivityHour'] = pd.to_datetime(hourly_calories['ActivityHour'], format='%m/%d/%Y %I:%M:%S %p')\n",
    "hourly_calories['Date'] = hourly_calories['ActivityHour'].dt.date\n",
    "hourly_calories['Time'] = hourly_calories['ActivityHour'].dt.time\n",
    "\n",
    "# hourly_intensities: split into date and time\n",
    "hourly_intensities['ActivityHour'] = pd.to_datetime(hourly_intensities['ActivityHour'], format='%m/%d/%Y %I:%M:%S %p')\n",
    "hourly_intensities['Date'] = hourly_intensities['ActivityHour'].dt.date\n",
    "hourly_intensities['Time'] = hourly_intensities['ActivityHour'].dt.time\n",
    "\n",
    "# hourly_steps: split into date and time\n",
    "hourly_steps['ActivityHour'] = pd.to_datetime(hourly_steps['ActivityHour'], format='%m/%d/%Y %I:%M:%S %p')\n",
    "hourly_steps['Date'] = hourly_steps['ActivityHour'].dt.date\n",
    "hourly_steps['Time'] = hourly_steps['ActivityHour'].dt.time\n",
    "\n",
    "# daily_sleep: split into date and time\n",
    "daily_sleep['SleepDay'] = pd.to_datetime(daily_sleep['SleepDay'], format='%m/%d/%Y %I:%M:%S %p')\n",
    "daily_sleep['Date'] = daily_sleep['SleepDay'].dt.date\n",
    "daily_sleep['Time'] = daily_sleep['SleepDay'].dt.time"
   ]
  },
  {
   "cell_type": "code",
   "execution_count": 7,
   "id": "dc95ad3c",
   "metadata": {},
   "outputs": [],
   "source": [
    "# Drop irrelevant columns\n",
    "daily_activity = daily_activity.drop('TrackerDistance', axis=1)\n",
    "hourly_calories = hourly_calories.drop('ActivityHour', axis=1)\n",
    "hourly_intensities = hourly_intensities.drop('ActivityHour', axis=1)\n",
    "hourly_steps = hourly_steps.drop('ActivityHour', axis=1)\n",
    "daily_sleep = daily_sleep.drop(['SleepDay', 'Time'], axis=1)"
   ]
  },
  {
   "cell_type": "markdown",
   "id": "919692cc",
   "metadata": {},
   "source": [
    "#### Duplicates: Drop any possible duplicated records"
   ]
  },
  {
   "cell_type": "code",
   "execution_count": 8,
   "id": "d6f8bf00",
   "metadata": {},
   "outputs": [],
   "source": [
    "full_datasets = [daily_activity, hourly_calories, hourly_intensities, hourly_steps, daily_sleep]"
   ]
  },
  {
   "cell_type": "code",
   "execution_count": 9,
   "id": "2de8c115",
   "metadata": {},
   "outputs": [],
   "source": [
    "# drop duplicates \n",
    "for dataset in full_datasets: \n",
    "    dataset.drop_duplicates()"
   ]
  },
  {
   "cell_type": "markdown",
   "id": "dce88a82",
   "metadata": {},
   "source": [
    "#### Missing Values: Handling missing values. After checking, there are no missing values in the datasets to be used."
   ]
  },
  {
   "cell_type": "code",
   "execution_count": 10,
   "id": "04a29398",
   "metadata": {},
   "outputs": [
    {
     "name": "stdout",
     "output_type": "stream",
     "text": [
      "Id                          False\n",
      "ActivityDate                False\n",
      "TotalSteps                  False\n",
      "TotalDistance               False\n",
      "LoggedActivitiesDistance    False\n",
      "VeryActiveDistance          False\n",
      "ModeratelyActiveDistance    False\n",
      "LightActiveDistance         False\n",
      "SedentaryActiveDistance     False\n",
      "VeryActiveMinutes           False\n",
      "FairlyActiveMinutes         False\n",
      "LightlyActiveMinutes        False\n",
      "SedentaryMinutes            False\n",
      "Calories                    False\n",
      "dtype: bool\n",
      "\n",
      "===============\n",
      "\n",
      "Id          False\n",
      "Calories    False\n",
      "Date        False\n",
      "Time        False\n",
      "dtype: bool\n",
      "\n",
      "===============\n",
      "\n",
      "Id                  False\n",
      "TotalIntensity      False\n",
      "AverageIntensity    False\n",
      "Date                False\n",
      "Time                False\n",
      "dtype: bool\n",
      "\n",
      "===============\n",
      "\n",
      "Id           False\n",
      "StepTotal    False\n",
      "Date         False\n",
      "Time         False\n",
      "dtype: bool\n",
      "\n",
      "===============\n",
      "\n",
      "Id                    False\n",
      "TotalSleepRecords     False\n",
      "TotalMinutesAsleep    False\n",
      "TotalTimeInBed        False\n",
      "Date                  False\n",
      "dtype: bool\n",
      "\n",
      "===============\n",
      "\n"
     ]
    }
   ],
   "source": [
    "# check if there are missing values \n",
    "for dataset in full_datasets:\n",
    "    print(dataset.isnull().any())\n",
    "    print(\"\\n===============\\n\")"
   ]
  },
  {
   "cell_type": "markdown",
   "id": "b9ffc7e4",
   "metadata": {},
   "source": [
    "#### Outliers: Detect and remove extreme values which are usually incorrect data"
   ]
  },
  {
   "cell_type": "code",
   "execution_count": 11,
   "id": "901200c8",
   "metadata": {},
   "outputs": [
    {
     "data": {
      "image/png": "[encoded data removed]",
      "text/plain": [
       "<Figure size 432x288 with 1 Axes>"
      ]
     },
     "metadata": {
      "needs_background": "light"
     },
     "output_type": "display_data"
    },
    {
     "data": {
      "image/png": "[encoded data removed]",
      "text/plain": [
       "<Figure size 864x360 with 1 Axes>"
      ]
     },
     "metadata": {
      "needs_background": "light"
     },
     "output_type": "display_data"
    },
    {
     "data": {
      "image/png": "[encoded data removed]",
      "text/plain": [
       "<Figure size 576x360 with 1 Axes>"
      ]
     },
     "metadata": {
      "needs_background": "light"
     },
     "output_type": "display_data"
    }
   ],
   "source": [
    "# Boxplots\n",
    "ax1 = daily_activity['TotalSteps'].plot.box()\n",
    "\n",
    "# seperate boxplots for features of distance \n",
    "lst_feat_distance = ['LoggedActivitiesDistance', 'VeryActiveDistance', 'ModeratelyActiveDistance', 'LightActiveDistance', 'SedentaryActiveDistance'] \n",
    "ax2 = daily_activity[lst_feat_distance].plot.box(figsize=(12,5))\n",
    "\n",
    "# seperate boxplots for features of active minutes\n",
    "lst_feat_ActiveMins = ['VeryActiveMinutes', 'FairlyActiveMinutes', 'LightlyActiveMinutes', 'SedentaryMinutes']\n",
    "ax3 = daily_activity[lst_feat_ActiveMins].plot.box(figsize=(8,5))"
   ]
  },
  {
   "cell_type": "code",
   "execution_count": 12,
   "id": "1f0b7b83",
   "metadata": {},
   "outputs": [
    {
     "data": {
      "text/html": [
       "<div>\n",
       "<style scoped>\n",
       "    .dataframe tbody tr th:only-of-type {\n",
       "        vertical-align: middle;\n",
       "    }\n",
       "\n",
       "    .dataframe tbody tr th {\n",
       "        vertical-align: top;\n",
       "    }\n",
       "\n",
       "    .dataframe thead th {\n",
       "        text-align: right;\n",
       "    }\n",
       "</style>\n",
       "<table border=\"1\" class=\"dataframe\">\n",
       "  <thead>\n",
       "    <tr style=\"text-align: right;\">\n",
       "      <th></th>\n",
       "      <th>Id</th>\n",
       "      <th>ActivityDate</th>\n",
       "      <th>TotalSteps</th>\n",
       "      <th>TotalDistance</th>\n",
       "      <th>LoggedActivitiesDistance</th>\n",
       "      <th>VeryActiveDistance</th>\n",
       "      <th>ModeratelyActiveDistance</th>\n",
       "      <th>LightActiveDistance</th>\n",
       "      <th>SedentaryActiveDistance</th>\n",
       "      <th>VeryActiveMinutes</th>\n",
       "      <th>FairlyActiveMinutes</th>\n",
       "      <th>LightlyActiveMinutes</th>\n",
       "      <th>SedentaryMinutes</th>\n",
       "      <th>Calories</th>\n",
       "    </tr>\n",
       "  </thead>\n",
       "  <tbody>\n",
       "    <tr>\n",
       "      <th>0</th>\n",
       "      <td>1503960366</td>\n",
       "      <td>2016-04-12</td>\n",
       "      <td>13162</td>\n",
       "      <td>8.50</td>\n",
       "      <td>0.0</td>\n",
       "      <td>1.88</td>\n",
       "      <td>0.55</td>\n",
       "      <td>6.06</td>\n",
       "      <td>0.0</td>\n",
       "      <td>25</td>\n",
       "      <td>13</td>\n",
       "      <td>328</td>\n",
       "      <td>728</td>\n",
       "      <td>1985</td>\n",
       "    </tr>\n",
       "    <tr>\n",
       "      <th>1</th>\n",
       "      <td>1503960366</td>\n",
       "      <td>2016-04-13</td>\n",
       "      <td>10735</td>\n",
       "      <td>6.97</td>\n",
       "      <td>0.0</td>\n",
       "      <td>1.57</td>\n",
       "      <td>0.69</td>\n",
       "      <td>4.71</td>\n",
       "      <td>0.0</td>\n",
       "      <td>21</td>\n",
       "      <td>19</td>\n",
       "      <td>217</td>\n",
       "      <td>776</td>\n",
       "      <td>1797</td>\n",
       "    </tr>\n",
       "    <tr>\n",
       "      <th>2</th>\n",
       "      <td>1503960366</td>\n",
       "      <td>2016-04-14</td>\n",
       "      <td>10460</td>\n",
       "      <td>6.74</td>\n",
       "      <td>0.0</td>\n",
       "      <td>2.44</td>\n",
       "      <td>0.40</td>\n",
       "      <td>3.91</td>\n",
       "      <td>0.0</td>\n",
       "      <td>30</td>\n",
       "      <td>11</td>\n",
       "      <td>181</td>\n",
       "      <td>1218</td>\n",
       "      <td>1776</td>\n",
       "    </tr>\n",
       "    <tr>\n",
       "      <th>3</th>\n",
       "      <td>1503960366</td>\n",
       "      <td>2016-04-15</td>\n",
       "      <td>9762</td>\n",
       "      <td>6.28</td>\n",
       "      <td>0.0</td>\n",
       "      <td>2.14</td>\n",
       "      <td>1.26</td>\n",
       "      <td>2.83</td>\n",
       "      <td>0.0</td>\n",
       "      <td>29</td>\n",
       "      <td>34</td>\n",
       "      <td>209</td>\n",
       "      <td>726</td>\n",
       "      <td>1745</td>\n",
       "    </tr>\n",
       "    <tr>\n",
       "      <th>4</th>\n",
       "      <td>1503960366</td>\n",
       "      <td>2016-04-16</td>\n",
       "      <td>12669</td>\n",
       "      <td>8.16</td>\n",
       "      <td>0.0</td>\n",
       "      <td>2.71</td>\n",
       "      <td>0.41</td>\n",
       "      <td>5.04</td>\n",
       "      <td>0.0</td>\n",
       "      <td>36</td>\n",
       "      <td>10</td>\n",
       "      <td>221</td>\n",
       "      <td>773</td>\n",
       "      <td>1863</td>\n",
       "    </tr>\n",
       "  </tbody>\n",
       "</table>\n",
       "</div>"
      ],
      "text/plain": [
       "           Id ActivityDate  TotalSteps  TotalDistance  \\\n",
       "0  1503960366   2016-04-12       13162           8.50   \n",
       "1  1503960366   2016-04-13       10735           6.97   \n",
       "2  1503960366   2016-04-14       10460           6.74   \n",
       "3  1503960366   2016-04-15        9762           6.28   \n",
       "4  1503960366   2016-04-16       12669           8.16   \n",
       "\n",
       "   LoggedActivitiesDistance  VeryActiveDistance  ModeratelyActiveDistance  \\\n",
       "0                       0.0                1.88                      0.55   \n",
       "1                       0.0                1.57                      0.69   \n",
       "2                       0.0                2.44                      0.40   \n",
       "3                       0.0                2.14                      1.26   \n",
       "4                       0.0                2.71                      0.41   \n",
       "\n",
       "   LightActiveDistance  SedentaryActiveDistance  VeryActiveMinutes  \\\n",
       "0                 6.06                      0.0                 25   \n",
       "1                 4.71                      0.0                 21   \n",
       "2                 3.91                      0.0                 30   \n",
       "3                 2.83                      0.0                 29   \n",
       "4                 5.04                      0.0                 36   \n",
       "\n",
       "   FairlyActiveMinutes  LightlyActiveMinutes  SedentaryMinutes  Calories  \n",
       "0                   13                   328               728      1985  \n",
       "1                   19                   217               776      1797  \n",
       "2                   11                   181              1218      1776  \n",
       "3                   34                   209               726      1745  \n",
       "4                   10                   221               773      1863  "
      ]
     },
     "execution_count": 12,
     "metadata": {},
     "output_type": "execute_result"
    }
   ],
   "source": [
    "daily_activity.head()"
   ]
  },
  {
   "cell_type": "code",
   "execution_count": 13,
   "id": "0a233be4",
   "metadata": {},
   "outputs": [
    {
     "data": {
      "text/html": [
       "<div>\n",
       "<style scoped>\n",
       "    .dataframe tbody tr th:only-of-type {\n",
       "        vertical-align: middle;\n",
       "    }\n",
       "\n",
       "    .dataframe tbody tr th {\n",
       "        vertical-align: top;\n",
       "    }\n",
       "\n",
       "    .dataframe thead th {\n",
       "        text-align: right;\n",
       "    }\n",
       "</style>\n",
       "<table border=\"1\" class=\"dataframe\">\n",
       "  <thead>\n",
       "    <tr style=\"text-align: right;\">\n",
       "      <th></th>\n",
       "      <th>Id</th>\n",
       "      <th>Calories</th>\n",
       "      <th>Date</th>\n",
       "      <th>Time</th>\n",
       "    </tr>\n",
       "  </thead>\n",
       "  <tbody>\n",
       "    <tr>\n",
       "      <th>0</th>\n",
       "      <td>1503960366</td>\n",
       "      <td>81</td>\n",
       "      <td>2016-04-12</td>\n",
       "      <td>00:00:00</td>\n",
       "    </tr>\n",
       "    <tr>\n",
       "      <th>1</th>\n",
       "      <td>1503960366</td>\n",
       "      <td>61</td>\n",
       "      <td>2016-04-12</td>\n",
       "      <td>01:00:00</td>\n",
       "    </tr>\n",
       "    <tr>\n",
       "      <th>2</th>\n",
       "      <td>1503960366</td>\n",
       "      <td>59</td>\n",
       "      <td>2016-04-12</td>\n",
       "      <td>02:00:00</td>\n",
       "    </tr>\n",
       "    <tr>\n",
       "      <th>3</th>\n",
       "      <td>1503960366</td>\n",
       "      <td>47</td>\n",
       "      <td>2016-04-12</td>\n",
       "      <td>03:00:00</td>\n",
       "    </tr>\n",
       "    <tr>\n",
       "      <th>4</th>\n",
       "      <td>1503960366</td>\n",
       "      <td>48</td>\n",
       "      <td>2016-04-12</td>\n",
       "      <td>04:00:00</td>\n",
       "    </tr>\n",
       "  </tbody>\n",
       "</table>\n",
       "</div>"
      ],
      "text/plain": [
       "           Id  Calories        Date      Time\n",
       "0  1503960366        81  2016-04-12  00:00:00\n",
       "1  1503960366        61  2016-04-12  01:00:00\n",
       "2  1503960366        59  2016-04-12  02:00:00\n",
       "3  1503960366        47  2016-04-12  03:00:00\n",
       "4  1503960366        48  2016-04-12  04:00:00"
      ]
     },
     "execution_count": 13,
     "metadata": {},
     "output_type": "execute_result"
    }
   ],
   "source": [
    "hourly_calories.head()"
   ]
  },
  {
   "cell_type": "code",
   "execution_count": 14,
   "id": "1b624409",
   "metadata": {},
   "outputs": [
    {
     "data": {
      "text/html": [
       "<div>\n",
       "<style scoped>\n",
       "    .dataframe tbody tr th:only-of-type {\n",
       "        vertical-align: middle;\n",
       "    }\n",
       "\n",
       "    .dataframe tbody tr th {\n",
       "        vertical-align: top;\n",
       "    }\n",
       "\n",
       "    .dataframe thead th {\n",
       "        text-align: right;\n",
       "    }\n",
       "</style>\n",
       "<table border=\"1\" class=\"dataframe\">\n",
       "  <thead>\n",
       "    <tr style=\"text-align: right;\">\n",
       "      <th></th>\n",
       "      <th>Id</th>\n",
       "      <th>TotalIntensity</th>\n",
       "      <th>AverageIntensity</th>\n",
       "      <th>Date</th>\n",
       "      <th>Time</th>\n",
       "    </tr>\n",
       "  </thead>\n",
       "  <tbody>\n",
       "    <tr>\n",
       "      <th>0</th>\n",
       "      <td>1503960366</td>\n",
       "      <td>20</td>\n",
       "      <td>0.333333</td>\n",
       "      <td>2016-04-12</td>\n",
       "      <td>00:00:00</td>\n",
       "    </tr>\n",
       "    <tr>\n",
       "      <th>1</th>\n",
       "      <td>1503960366</td>\n",
       "      <td>8</td>\n",
       "      <td>0.133333</td>\n",
       "      <td>2016-04-12</td>\n",
       "      <td>01:00:00</td>\n",
       "    </tr>\n",
       "    <tr>\n",
       "      <th>2</th>\n",
       "      <td>1503960366</td>\n",
       "      <td>7</td>\n",
       "      <td>0.116667</td>\n",
       "      <td>2016-04-12</td>\n",
       "      <td>02:00:00</td>\n",
       "    </tr>\n",
       "    <tr>\n",
       "      <th>3</th>\n",
       "      <td>1503960366</td>\n",
       "      <td>0</td>\n",
       "      <td>0.000000</td>\n",
       "      <td>2016-04-12</td>\n",
       "      <td>03:00:00</td>\n",
       "    </tr>\n",
       "    <tr>\n",
       "      <th>4</th>\n",
       "      <td>1503960366</td>\n",
       "      <td>0</td>\n",
       "      <td>0.000000</td>\n",
       "      <td>2016-04-12</td>\n",
       "      <td>04:00:00</td>\n",
       "    </tr>\n",
       "  </tbody>\n",
       "</table>\n",
       "</div>"
      ],
      "text/plain": [
       "           Id  TotalIntensity  AverageIntensity        Date      Time\n",
       "0  1503960366              20          0.333333  2016-04-12  00:00:00\n",
       "1  1503960366               8          0.133333  2016-04-12  01:00:00\n",
       "2  1503960366               7          0.116667  2016-04-12  02:00:00\n",
       "3  1503960366               0          0.000000  2016-04-12  03:00:00\n",
       "4  1503960366               0          0.000000  2016-04-12  04:00:00"
      ]
     },
     "execution_count": 14,
     "metadata": {},
     "output_type": "execute_result"
    }
   ],
   "source": [
    "hourly_intensities.head()"
   ]
  },
  {
   "cell_type": "code",
   "execution_count": 15,
   "id": "007582ee",
   "metadata": {},
   "outputs": [
    {
     "data": {
      "text/html": [
       "<div>\n",
       "<style scoped>\n",
       "    .dataframe tbody tr th:only-of-type {\n",
       "        vertical-align: middle;\n",
       "    }\n",
       "\n",
       "    .dataframe tbody tr th {\n",
       "        vertical-align: top;\n",
       "    }\n",
       "\n",
       "    .dataframe thead th {\n",
       "        text-align: right;\n",
       "    }\n",
       "</style>\n",
       "<table border=\"1\" class=\"dataframe\">\n",
       "  <thead>\n",
       "    <tr style=\"text-align: right;\">\n",
       "      <th></th>\n",
       "      <th>Id</th>\n",
       "      <th>StepTotal</th>\n",
       "      <th>Date</th>\n",
       "      <th>Time</th>\n",
       "    </tr>\n",
       "  </thead>\n",
       "  <tbody>\n",
       "    <tr>\n",
       "      <th>0</th>\n",
       "      <td>1503960366</td>\n",
       "      <td>373</td>\n",
       "      <td>2016-04-12</td>\n",
       "      <td>00:00:00</td>\n",
       "    </tr>\n",
       "    <tr>\n",
       "      <th>1</th>\n",
       "      <td>1503960366</td>\n",
       "      <td>160</td>\n",
       "      <td>2016-04-12</td>\n",
       "      <td>01:00:00</td>\n",
       "    </tr>\n",
       "    <tr>\n",
       "      <th>2</th>\n",
       "      <td>1503960366</td>\n",
       "      <td>151</td>\n",
       "      <td>2016-04-12</td>\n",
       "      <td>02:00:00</td>\n",
       "    </tr>\n",
       "    <tr>\n",
       "      <th>3</th>\n",
       "      <td>1503960366</td>\n",
       "      <td>0</td>\n",
       "      <td>2016-04-12</td>\n",
       "      <td>03:00:00</td>\n",
       "    </tr>\n",
       "    <tr>\n",
       "      <th>4</th>\n",
       "      <td>1503960366</td>\n",
       "      <td>0</td>\n",
       "      <td>2016-04-12</td>\n",
       "      <td>04:00:00</td>\n",
       "    </tr>\n",
       "  </tbody>\n",
       "</table>\n",
       "</div>"
      ],
      "text/plain": [
       "           Id  StepTotal        Date      Time\n",
       "0  1503960366        373  2016-04-12  00:00:00\n",
       "1  1503960366        160  2016-04-12  01:00:00\n",
       "2  1503960366        151  2016-04-12  02:00:00\n",
       "3  1503960366          0  2016-04-12  03:00:00\n",
       "4  1503960366          0  2016-04-12  04:00:00"
      ]
     },
     "execution_count": 15,
     "metadata": {},
     "output_type": "execute_result"
    }
   ],
   "source": [
    "hourly_steps.head()"
   ]
  },
  {
   "cell_type": "code",
   "execution_count": 16,
   "id": "cb0e2350",
   "metadata": {},
   "outputs": [
    {
     "data": {
      "text/html": [
       "<div>\n",
       "<style scoped>\n",
       "    .dataframe tbody tr th:only-of-type {\n",
       "        vertical-align: middle;\n",
       "    }\n",
       "\n",
       "    .dataframe tbody tr th {\n",
       "        vertical-align: top;\n",
       "    }\n",
       "\n",
       "    .dataframe thead th {\n",
       "        text-align: right;\n",
       "    }\n",
       "</style>\n",
       "<table border=\"1\" class=\"dataframe\">\n",
       "  <thead>\n",
       "    <tr style=\"text-align: right;\">\n",
       "      <th></th>\n",
       "      <th>Id</th>\n",
       "      <th>TotalSleepRecords</th>\n",
       "      <th>TotalMinutesAsleep</th>\n",
       "      <th>TotalTimeInBed</th>\n",
       "      <th>Date</th>\n",
       "    </tr>\n",
       "  </thead>\n",
       "  <tbody>\n",
       "    <tr>\n",
       "      <th>0</th>\n",
       "      <td>1503960366</td>\n",
       "      <td>1</td>\n",
       "      <td>327</td>\n",
       "      <td>346</td>\n",
       "      <td>2016-04-12</td>\n",
       "    </tr>\n",
       "    <tr>\n",
       "      <th>1</th>\n",
       "      <td>1503960366</td>\n",
       "      <td>2</td>\n",
       "      <td>384</td>\n",
       "      <td>407</td>\n",
       "      <td>2016-04-13</td>\n",
       "    </tr>\n",
       "    <tr>\n",
       "      <th>2</th>\n",
       "      <td>1503960366</td>\n",
       "      <td>1</td>\n",
       "      <td>412</td>\n",
       "      <td>442</td>\n",
       "      <td>2016-04-15</td>\n",
       "    </tr>\n",
       "    <tr>\n",
       "      <th>3</th>\n",
       "      <td>1503960366</td>\n",
       "      <td>2</td>\n",
       "      <td>340</td>\n",
       "      <td>367</td>\n",
       "      <td>2016-04-16</td>\n",
       "    </tr>\n",
       "    <tr>\n",
       "      <th>4</th>\n",
       "      <td>1503960366</td>\n",
       "      <td>1</td>\n",
       "      <td>700</td>\n",
       "      <td>712</td>\n",
       "      <td>2016-04-17</td>\n",
       "    </tr>\n",
       "  </tbody>\n",
       "</table>\n",
       "</div>"
      ],
      "text/plain": [
       "           Id  TotalSleepRecords  TotalMinutesAsleep  TotalTimeInBed  \\\n",
       "0  1503960366                  1                 327             346   \n",
       "1  1503960366                  2                 384             407   \n",
       "2  1503960366                  1                 412             442   \n",
       "3  1503960366                  2                 340             367   \n",
       "4  1503960366                  1                 700             712   \n",
       "\n",
       "         Date  \n",
       "0  2016-04-12  \n",
       "1  2016-04-13  \n",
       "2  2016-04-15  \n",
       "3  2016-04-16  \n",
       "4  2016-04-17  "
      ]
     },
     "execution_count": 16,
     "metadata": {},
     "output_type": "execute_result"
    }
   ],
   "source": [
    "daily_sleep.head()"
   ]
  },
  {
   "cell_type": "code",
   "execution_count": 17,
   "id": "0135a1f3",
   "metadata": {},
   "outputs": [
    {
     "name": "stdout",
     "output_type": "stream",
     "text": [
      "<class 'pandas.core.frame.DataFrame'>\n",
      "RangeIndex: 22099 entries, 0 to 22098\n",
      "Data columns (total 4 columns):\n",
      " #   Column     Non-Null Count  Dtype \n",
      "---  ------     --------------  ----- \n",
      " 0   Id         22099 non-null  int64 \n",
      " 1   StepTotal  22099 non-null  int64 \n",
      " 2   Date       22099 non-null  object\n",
      " 3   Time       22099 non-null  object\n",
      "dtypes: int64(2), object(2)\n",
      "memory usage: 690.7+ KB\n"
     ]
    }
   ],
   "source": [
    "hourly_steps.info()"
   ]
  },
  {
   "cell_type": "markdown",
   "id": "b5ade629",
   "metadata": {},
   "source": [
    "## 2.4 Merging Datasets"
   ]
  },
  {
   "cell_type": "code",
   "execution_count": 18,
   "id": "9c219996",
   "metadata": {},
   "outputs": [],
   "source": [
    "# Merge datasets measured hourly \n",
    "hourly_activity_merged = pd.merge(hourly_calories, hourly_intensities, on=['Id', 'Date', 'Time'])\n",
    "hourly_activity_merged = pd.merge(hourly_activity_merged, hourly_steps, on=['Id', 'Date', 'Time'])"
   ]
  },
  {
   "cell_type": "code",
   "execution_count": 19,
   "id": "74b88bf2",
   "metadata": {},
   "outputs": [],
   "source": [
    "# Merge daily_activity with daily_sleep \n",
    "daily_activity_merged = pd.merge(daily_activity, daily_sleep, \n",
    "                                 left_on=['ActivityDate', 'Id'], \n",
    "                                 right_on=['Date', 'Id'])"
   ]
  },
  {
   "cell_type": "code",
   "execution_count": 20,
   "id": "c67b8d99",
   "metadata": {},
   "outputs": [],
   "source": [
    "# add column giving information on the day of the week\n",
    "hourly_activity_merged['Weekday'] = pd.to_datetime(hourly_activity_merged['Date'], format='%Y/%m/%d').dt.day_name()\n",
    "\n",
    "daily_activity_merged['Weekday'] = pd.to_datetime(daily_activity_merged['Date'], format='%Y/%m/%d').dt.day_name()"
   ]
  },
  {
   "cell_type": "code",
   "execution_count": 21,
   "id": "5dc6a728",
   "metadata": {},
   "outputs": [
    {
     "data": {
      "text/html": [
       "<div>\n",
       "<style scoped>\n",
       "    .dataframe tbody tr th:only-of-type {\n",
       "        vertical-align: middle;\n",
       "    }\n",
       "\n",
       "    .dataframe tbody tr th {\n",
       "        vertical-align: top;\n",
       "    }\n",
       "\n",
       "    .dataframe thead th {\n",
       "        text-align: right;\n",
       "    }\n",
       "</style>\n",
       "<table border=\"1\" class=\"dataframe\">\n",
       "  <thead>\n",
       "    <tr style=\"text-align: right;\">\n",
       "      <th></th>\n",
       "      <th>Id</th>\n",
       "      <th>TotalSteps</th>\n",
       "      <th>TotalDistance</th>\n",
       "      <th>LoggedActivitiesDistance</th>\n",
       "      <th>VeryActiveDistance</th>\n",
       "      <th>ModeratelyActiveDistance</th>\n",
       "      <th>LightActiveDistance</th>\n",
       "      <th>SedentaryActiveDistance</th>\n",
       "      <th>VeryActiveMinutes</th>\n",
       "      <th>FairlyActiveMinutes</th>\n",
       "      <th>LightlyActiveMinutes</th>\n",
       "      <th>SedentaryMinutes</th>\n",
       "      <th>Calories</th>\n",
       "      <th>TotalSleepRecords</th>\n",
       "      <th>TotalMinutesAsleep</th>\n",
       "      <th>TotalTimeInBed</th>\n",
       "      <th>Date</th>\n",
       "      <th>Weekday</th>\n",
       "    </tr>\n",
       "  </thead>\n",
       "  <tbody>\n",
       "    <tr>\n",
       "      <th>0</th>\n",
       "      <td>1503960366</td>\n",
       "      <td>13162</td>\n",
       "      <td>8.50</td>\n",
       "      <td>0.0</td>\n",
       "      <td>1.88</td>\n",
       "      <td>0.55</td>\n",
       "      <td>6.06</td>\n",
       "      <td>0.0</td>\n",
       "      <td>25</td>\n",
       "      <td>13</td>\n",
       "      <td>328</td>\n",
       "      <td>728</td>\n",
       "      <td>1985</td>\n",
       "      <td>1</td>\n",
       "      <td>327</td>\n",
       "      <td>346</td>\n",
       "      <td>2016-04-12</td>\n",
       "      <td>Tuesday</td>\n",
       "    </tr>\n",
       "    <tr>\n",
       "      <th>1</th>\n",
       "      <td>1503960366</td>\n",
       "      <td>10735</td>\n",
       "      <td>6.97</td>\n",
       "      <td>0.0</td>\n",
       "      <td>1.57</td>\n",
       "      <td>0.69</td>\n",
       "      <td>4.71</td>\n",
       "      <td>0.0</td>\n",
       "      <td>21</td>\n",
       "      <td>19</td>\n",
       "      <td>217</td>\n",
       "      <td>776</td>\n",
       "      <td>1797</td>\n",
       "      <td>2</td>\n",
       "      <td>384</td>\n",
       "      <td>407</td>\n",
       "      <td>2016-04-13</td>\n",
       "      <td>Wednesday</td>\n",
       "    </tr>\n",
       "    <tr>\n",
       "      <th>2</th>\n",
       "      <td>1503960366</td>\n",
       "      <td>9762</td>\n",
       "      <td>6.28</td>\n",
       "      <td>0.0</td>\n",
       "      <td>2.14</td>\n",
       "      <td>1.26</td>\n",
       "      <td>2.83</td>\n",
       "      <td>0.0</td>\n",
       "      <td>29</td>\n",
       "      <td>34</td>\n",
       "      <td>209</td>\n",
       "      <td>726</td>\n",
       "      <td>1745</td>\n",
       "      <td>1</td>\n",
       "      <td>412</td>\n",
       "      <td>442</td>\n",
       "      <td>2016-04-15</td>\n",
       "      <td>Friday</td>\n",
       "    </tr>\n",
       "    <tr>\n",
       "      <th>3</th>\n",
       "      <td>1503960366</td>\n",
       "      <td>12669</td>\n",
       "      <td>8.16</td>\n",
       "      <td>0.0</td>\n",
       "      <td>2.71</td>\n",
       "      <td>0.41</td>\n",
       "      <td>5.04</td>\n",
       "      <td>0.0</td>\n",
       "      <td>36</td>\n",
       "      <td>10</td>\n",
       "      <td>221</td>\n",
       "      <td>773</td>\n",
       "      <td>1863</td>\n",
       "      <td>2</td>\n",
       "      <td>340</td>\n",
       "      <td>367</td>\n",
       "      <td>2016-04-16</td>\n",
       "      <td>Saturday</td>\n",
       "    </tr>\n",
       "    <tr>\n",
       "      <th>4</th>\n",
       "      <td>1503960366</td>\n",
       "      <td>9705</td>\n",
       "      <td>6.48</td>\n",
       "      <td>0.0</td>\n",
       "      <td>3.19</td>\n",
       "      <td>0.78</td>\n",
       "      <td>2.51</td>\n",
       "      <td>0.0</td>\n",
       "      <td>38</td>\n",
       "      <td>20</td>\n",
       "      <td>164</td>\n",
       "      <td>539</td>\n",
       "      <td>1728</td>\n",
       "      <td>1</td>\n",
       "      <td>700</td>\n",
       "      <td>712</td>\n",
       "      <td>2016-04-17</td>\n",
       "      <td>Sunday</td>\n",
       "    </tr>\n",
       "    <tr>\n",
       "      <th>...</th>\n",
       "      <td>...</td>\n",
       "      <td>...</td>\n",
       "      <td>...</td>\n",
       "      <td>...</td>\n",
       "      <td>...</td>\n",
       "      <td>...</td>\n",
       "      <td>...</td>\n",
       "      <td>...</td>\n",
       "      <td>...</td>\n",
       "      <td>...</td>\n",
       "      <td>...</td>\n",
       "      <td>...</td>\n",
       "      <td>...</td>\n",
       "      <td>...</td>\n",
       "      <td>...</td>\n",
       "      <td>...</td>\n",
       "      <td>...</td>\n",
       "      <td>...</td>\n",
       "    </tr>\n",
       "    <tr>\n",
       "      <th>408</th>\n",
       "      <td>8792009665</td>\n",
       "      <td>7174</td>\n",
       "      <td>4.59</td>\n",
       "      <td>0.0</td>\n",
       "      <td>0.33</td>\n",
       "      <td>0.36</td>\n",
       "      <td>3.91</td>\n",
       "      <td>0.0</td>\n",
       "      <td>10</td>\n",
       "      <td>20</td>\n",
       "      <td>301</td>\n",
       "      <td>749</td>\n",
       "      <td>2896</td>\n",
       "      <td>1</td>\n",
       "      <td>343</td>\n",
       "      <td>360</td>\n",
       "      <td>2016-04-30</td>\n",
       "      <td>Saturday</td>\n",
       "    </tr>\n",
       "    <tr>\n",
       "      <th>409</th>\n",
       "      <td>8792009665</td>\n",
       "      <td>1619</td>\n",
       "      <td>1.04</td>\n",
       "      <td>0.0</td>\n",
       "      <td>0.00</td>\n",
       "      <td>0.00</td>\n",
       "      <td>1.04</td>\n",
       "      <td>0.0</td>\n",
       "      <td>0</td>\n",
       "      <td>0</td>\n",
       "      <td>79</td>\n",
       "      <td>834</td>\n",
       "      <td>1962</td>\n",
       "      <td>1</td>\n",
       "      <td>503</td>\n",
       "      <td>527</td>\n",
       "      <td>2016-05-01</td>\n",
       "      <td>Sunday</td>\n",
       "    </tr>\n",
       "    <tr>\n",
       "      <th>410</th>\n",
       "      <td>8792009665</td>\n",
       "      <td>1831</td>\n",
       "      <td>1.17</td>\n",
       "      <td>0.0</td>\n",
       "      <td>0.00</td>\n",
       "      <td>0.00</td>\n",
       "      <td>1.17</td>\n",
       "      <td>0.0</td>\n",
       "      <td>0</td>\n",
       "      <td>0</td>\n",
       "      <td>101</td>\n",
       "      <td>916</td>\n",
       "      <td>2015</td>\n",
       "      <td>1</td>\n",
       "      <td>415</td>\n",
       "      <td>423</td>\n",
       "      <td>2016-05-02</td>\n",
       "      <td>Monday</td>\n",
       "    </tr>\n",
       "    <tr>\n",
       "      <th>411</th>\n",
       "      <td>8792009665</td>\n",
       "      <td>2421</td>\n",
       "      <td>1.55</td>\n",
       "      <td>0.0</td>\n",
       "      <td>0.00</td>\n",
       "      <td>0.00</td>\n",
       "      <td>1.55</td>\n",
       "      <td>0.0</td>\n",
       "      <td>0</td>\n",
       "      <td>0</td>\n",
       "      <td>156</td>\n",
       "      <td>739</td>\n",
       "      <td>2297</td>\n",
       "      <td>1</td>\n",
       "      <td>516</td>\n",
       "      <td>545</td>\n",
       "      <td>2016-05-03</td>\n",
       "      <td>Tuesday</td>\n",
       "    </tr>\n",
       "    <tr>\n",
       "      <th>412</th>\n",
       "      <td>8792009665</td>\n",
       "      <td>2283</td>\n",
       "      <td>1.46</td>\n",
       "      <td>0.0</td>\n",
       "      <td>0.00</td>\n",
       "      <td>0.00</td>\n",
       "      <td>1.46</td>\n",
       "      <td>0.0</td>\n",
       "      <td>0</td>\n",
       "      <td>0</td>\n",
       "      <td>129</td>\n",
       "      <td>848</td>\n",
       "      <td>2067</td>\n",
       "      <td>1</td>\n",
       "      <td>439</td>\n",
       "      <td>463</td>\n",
       "      <td>2016-05-04</td>\n",
       "      <td>Wednesday</td>\n",
       "    </tr>\n",
       "  </tbody>\n",
       "</table>\n",
       "<p>413 rows × 18 columns</p>\n",
       "</div>"
      ],
      "text/plain": [
       "             Id  TotalSteps  TotalDistance  LoggedActivitiesDistance  \\\n",
       "0    1503960366       13162           8.50                       0.0   \n",
       "1    1503960366       10735           6.97                       0.0   \n",
       "2    1503960366        9762           6.28                       0.0   \n",
       "3    1503960366       12669           8.16                       0.0   \n",
       "4    1503960366        9705           6.48                       0.0   \n",
       "..          ...         ...            ...                       ...   \n",
       "408  8792009665        7174           4.59                       0.0   \n",
       "409  8792009665        1619           1.04                       0.0   \n",
       "410  8792009665        1831           1.17                       0.0   \n",
       "411  8792009665        2421           1.55                       0.0   \n",
       "412  8792009665        2283           1.46                       0.0   \n",
       "\n",
       "     VeryActiveDistance  ModeratelyActiveDistance  LightActiveDistance  \\\n",
       "0                  1.88                      0.55                 6.06   \n",
       "1                  1.57                      0.69                 4.71   \n",
       "2                  2.14                      1.26                 2.83   \n",
       "3                  2.71                      0.41                 5.04   \n",
       "4                  3.19                      0.78                 2.51   \n",
       "..                  ...                       ...                  ...   \n",
       "408                0.33                      0.36                 3.91   \n",
       "409                0.00                      0.00                 1.04   \n",
       "410                0.00                      0.00                 1.17   \n",
       "411                0.00                      0.00                 1.55   \n",
       "412                0.00                      0.00                 1.46   \n",
       "\n",
       "     SedentaryActiveDistance  VeryActiveMinutes  FairlyActiveMinutes  \\\n",
       "0                        0.0                 25                   13   \n",
       "1                        0.0                 21                   19   \n",
       "2                        0.0                 29                   34   \n",
       "3                        0.0                 36                   10   \n",
       "4                        0.0                 38                   20   \n",
       "..                       ...                ...                  ...   \n",
       "408                      0.0                 10                   20   \n",
       "409                      0.0                  0                    0   \n",
       "410                      0.0                  0                    0   \n",
       "411                      0.0                  0                    0   \n",
       "412                      0.0                  0                    0   \n",
       "\n",
       "     LightlyActiveMinutes  SedentaryMinutes  Calories  TotalSleepRecords  \\\n",
       "0                     328               728      1985                  1   \n",
       "1                     217               776      1797                  2   \n",
       "2                     209               726      1745                  1   \n",
       "3                     221               773      1863                  2   \n",
       "4                     164               539      1728                  1   \n",
       "..                    ...               ...       ...                ...   \n",
       "408                   301               749      2896                  1   \n",
       "409                    79               834      1962                  1   \n",
       "410                   101               916      2015                  1   \n",
       "411                   156               739      2297                  1   \n",
       "412                   129               848      2067                  1   \n",
       "\n",
       "     TotalMinutesAsleep  TotalTimeInBed        Date    Weekday  \n",
       "0                   327             346  2016-04-12    Tuesday  \n",
       "1                   384             407  2016-04-13  Wednesday  \n",
       "2                   412             442  2016-04-15     Friday  \n",
       "3                   340             367  2016-04-16   Saturday  \n",
       "4                   700             712  2016-04-17     Sunday  \n",
       "..                  ...             ...         ...        ...  \n",
       "408                 343             360  2016-04-30   Saturday  \n",
       "409                 503             527  2016-05-01     Sunday  \n",
       "410                 415             423  2016-05-02     Monday  \n",
       "411                 516             545  2016-05-03    Tuesday  \n",
       "412                 439             463  2016-05-04  Wednesday  \n",
       "\n",
       "[413 rows x 18 columns]"
      ]
     },
     "execution_count": 21,
     "metadata": {},
     "output_type": "execute_result"
    }
   ],
   "source": [
    "# drop duplicated columns \n",
    "daily_activity_merged.drop('ActivityDate', axis=1)"
   ]
  },
  {
   "cell_type": "markdown",
   "id": "7dbd8bc3",
   "metadata": {},
   "source": [
    "## 2.5 Summary for the merged datasets"
   ]
  },
  {
   "cell_type": "code",
   "execution_count": 22,
   "id": "2d58a7c5",
   "metadata": {},
   "outputs": [
    {
     "name": "stdout",
     "output_type": "stream",
     "text": [
      "<class 'pandas.core.frame.DataFrame'>\n",
      "Int64Index: 413 entries, 0 to 412\n",
      "Data columns (total 19 columns):\n",
      " #   Column                    Non-Null Count  Dtype  \n",
      "---  ------                    --------------  -----  \n",
      " 0   Id                        413 non-null    int64  \n",
      " 1   ActivityDate              413 non-null    object \n",
      " 2   TotalSteps                413 non-null    int64  \n",
      " 3   TotalDistance             413 non-null    float64\n",
      " 4   LoggedActivitiesDistance  413 non-null    float64\n",
      " 5   VeryActiveDistance        413 non-null    float64\n",
      " 6   ModeratelyActiveDistance  413 non-null    float64\n",
      " 7   LightActiveDistance       413 non-null    float64\n",
      " 8   SedentaryActiveDistance   413 non-null    float64\n",
      " 9   VeryActiveMinutes         413 non-null    int64  \n",
      " 10  FairlyActiveMinutes       413 non-null    int64  \n",
      " 11  LightlyActiveMinutes      413 non-null    int64  \n",
      " 12  SedentaryMinutes          413 non-null    int64  \n",
      " 13  Calories                  413 non-null    int64  \n",
      " 14  TotalSleepRecords         413 non-null    int64  \n",
      " 15  TotalMinutesAsleep        413 non-null    int64  \n",
      " 16  TotalTimeInBed            413 non-null    int64  \n",
      " 17  Date                      413 non-null    object \n",
      " 18  Weekday                   413 non-null    object \n",
      "dtypes: float64(6), int64(10), object(3)\n",
      "memory usage: 64.5+ KB\n"
     ]
    },
    {
     "data": {
      "text/html": [
       "<div>\n",
       "<style scoped>\n",
       "    .dataframe tbody tr th:only-of-type {\n",
       "        vertical-align: middle;\n",
       "    }\n",
       "\n",
       "    .dataframe tbody tr th {\n",
       "        vertical-align: top;\n",
       "    }\n",
       "\n",
       "    .dataframe thead th {\n",
       "        text-align: right;\n",
       "    }\n",
       "</style>\n",
       "<table border=\"1\" class=\"dataframe\">\n",
       "  <thead>\n",
       "    <tr style=\"text-align: right;\">\n",
       "      <th></th>\n",
       "      <th>TotalSteps</th>\n",
       "      <th>TotalDistance</th>\n",
       "      <th>LoggedActivitiesDistance</th>\n",
       "      <th>VeryActiveDistance</th>\n",
       "      <th>ModeratelyActiveDistance</th>\n",
       "      <th>LightActiveDistance</th>\n",
       "      <th>SedentaryActiveDistance</th>\n",
       "      <th>VeryActiveMinutes</th>\n",
       "      <th>FairlyActiveMinutes</th>\n",
       "      <th>LightlyActiveMinutes</th>\n",
       "      <th>SedentaryMinutes</th>\n",
       "      <th>Calories</th>\n",
       "      <th>TotalSleepRecords</th>\n",
       "      <th>TotalMinutesAsleep</th>\n",
       "      <th>TotalTimeInBed</th>\n",
       "    </tr>\n",
       "  </thead>\n",
       "  <tbody>\n",
       "    <tr>\n",
       "      <th>count</th>\n",
       "      <td>413.000000</td>\n",
       "      <td>413.000000</td>\n",
       "      <td>413.000000</td>\n",
       "      <td>413.000000</td>\n",
       "      <td>413.000000</td>\n",
       "      <td>413.000000</td>\n",
       "      <td>413.000000</td>\n",
       "      <td>413.000000</td>\n",
       "      <td>413.000000</td>\n",
       "      <td>413.000000</td>\n",
       "      <td>413.000000</td>\n",
       "      <td>413.000000</td>\n",
       "      <td>413.000000</td>\n",
       "      <td>413.000000</td>\n",
       "      <td>413.000000</td>\n",
       "    </tr>\n",
       "    <tr>\n",
       "      <th>mean</th>\n",
       "      <td>8541.140436</td>\n",
       "      <td>6.038620</td>\n",
       "      <td>0.113142</td>\n",
       "      <td>1.450363</td>\n",
       "      <td>0.750242</td>\n",
       "      <td>3.807119</td>\n",
       "      <td>0.000920</td>\n",
       "      <td>25.188862</td>\n",
       "      <td>18.038741</td>\n",
       "      <td>216.854722</td>\n",
       "      <td>712.169492</td>\n",
       "      <td>2397.573850</td>\n",
       "      <td>1.118644</td>\n",
       "      <td>419.467312</td>\n",
       "      <td>458.639225</td>\n",
       "    </tr>\n",
       "    <tr>\n",
       "      <th>std</th>\n",
       "      <td>4156.926990</td>\n",
       "      <td>3.051998</td>\n",
       "      <td>0.513107</td>\n",
       "      <td>1.994352</td>\n",
       "      <td>1.000183</td>\n",
       "      <td>1.734511</td>\n",
       "      <td>0.008653</td>\n",
       "      <td>36.388187</td>\n",
       "      <td>22.403590</td>\n",
       "      <td>87.164687</td>\n",
       "      <td>165.957432</td>\n",
       "      <td>762.886326</td>\n",
       "      <td>0.345521</td>\n",
       "      <td>118.344679</td>\n",
       "      <td>127.101607</td>\n",
       "    </tr>\n",
       "    <tr>\n",
       "      <th>min</th>\n",
       "      <td>17.000000</td>\n",
       "      <td>0.010000</td>\n",
       "      <td>0.000000</td>\n",
       "      <td>0.000000</td>\n",
       "      <td>0.000000</td>\n",
       "      <td>0.010000</td>\n",
       "      <td>0.000000</td>\n",
       "      <td>0.000000</td>\n",
       "      <td>0.000000</td>\n",
       "      <td>2.000000</td>\n",
       "      <td>0.000000</td>\n",
       "      <td>257.000000</td>\n",
       "      <td>1.000000</td>\n",
       "      <td>58.000000</td>\n",
       "      <td>61.000000</td>\n",
       "    </tr>\n",
       "    <tr>\n",
       "      <th>25%</th>\n",
       "      <td>5206.000000</td>\n",
       "      <td>3.600000</td>\n",
       "      <td>0.000000</td>\n",
       "      <td>0.000000</td>\n",
       "      <td>0.000000</td>\n",
       "      <td>2.540000</td>\n",
       "      <td>0.000000</td>\n",
       "      <td>0.000000</td>\n",
       "      <td>0.000000</td>\n",
       "      <td>158.000000</td>\n",
       "      <td>631.000000</td>\n",
       "      <td>1850.000000</td>\n",
       "      <td>1.000000</td>\n",
       "      <td>361.000000</td>\n",
       "      <td>403.000000</td>\n",
       "    </tr>\n",
       "    <tr>\n",
       "      <th>50%</th>\n",
       "      <td>8925.000000</td>\n",
       "      <td>6.290000</td>\n",
       "      <td>0.000000</td>\n",
       "      <td>0.570000</td>\n",
       "      <td>0.420000</td>\n",
       "      <td>3.680000</td>\n",
       "      <td>0.000000</td>\n",
       "      <td>9.000000</td>\n",
       "      <td>11.000000</td>\n",
       "      <td>208.000000</td>\n",
       "      <td>717.000000</td>\n",
       "      <td>2220.000000</td>\n",
       "      <td>1.000000</td>\n",
       "      <td>433.000000</td>\n",
       "      <td>463.000000</td>\n",
       "    </tr>\n",
       "    <tr>\n",
       "      <th>75%</th>\n",
       "      <td>11393.000000</td>\n",
       "      <td>8.030000</td>\n",
       "      <td>0.000000</td>\n",
       "      <td>2.370000</td>\n",
       "      <td>1.040000</td>\n",
       "      <td>4.930000</td>\n",
       "      <td>0.000000</td>\n",
       "      <td>38.000000</td>\n",
       "      <td>27.000000</td>\n",
       "      <td>263.000000</td>\n",
       "      <td>783.000000</td>\n",
       "      <td>2926.000000</td>\n",
       "      <td>1.000000</td>\n",
       "      <td>490.000000</td>\n",
       "      <td>526.000000</td>\n",
       "    </tr>\n",
       "    <tr>\n",
       "      <th>max</th>\n",
       "      <td>22770.000000</td>\n",
       "      <td>17.540001</td>\n",
       "      <td>4.081692</td>\n",
       "      <td>12.540000</td>\n",
       "      <td>6.480000</td>\n",
       "      <td>9.480000</td>\n",
       "      <td>0.110000</td>\n",
       "      <td>210.000000</td>\n",
       "      <td>143.000000</td>\n",
       "      <td>518.000000</td>\n",
       "      <td>1265.000000</td>\n",
       "      <td>4900.000000</td>\n",
       "      <td>3.000000</td>\n",
       "      <td>796.000000</td>\n",
       "      <td>961.000000</td>\n",
       "    </tr>\n",
       "  </tbody>\n",
       "</table>\n",
       "</div>"
      ],
      "text/plain": [
       "         TotalSteps  TotalDistance  LoggedActivitiesDistance  \\\n",
       "count    413.000000     413.000000                413.000000   \n",
       "mean    8541.140436       6.038620                  0.113142   \n",
       "std     4156.926990       3.051998                  0.513107   \n",
       "min       17.000000       0.010000                  0.000000   \n",
       "25%     5206.000000       3.600000                  0.000000   \n",
       "50%     8925.000000       6.290000                  0.000000   \n",
       "75%    11393.000000       8.030000                  0.000000   \n",
       "max    22770.000000      17.540001                  4.081692   \n",
       "\n",
       "       VeryActiveDistance  ModeratelyActiveDistance  LightActiveDistance  \\\n",
       "count          413.000000                413.000000           413.000000   \n",
       "mean             1.450363                  0.750242             3.807119   \n",
       "std              1.994352                  1.000183             1.734511   \n",
       "min              0.000000                  0.000000             0.010000   \n",
       "25%              0.000000                  0.000000             2.540000   \n",
       "50%              0.570000                  0.420000             3.680000   \n",
       "75%              2.370000                  1.040000             4.930000   \n",
       "max             12.540000                  6.480000             9.480000   \n",
       "\n",
       "       SedentaryActiveDistance  VeryActiveMinutes  FairlyActiveMinutes  \\\n",
       "count               413.000000         413.000000           413.000000   \n",
       "mean                  0.000920          25.188862            18.038741   \n",
       "std                   0.008653          36.388187            22.403590   \n",
       "min                   0.000000           0.000000             0.000000   \n",
       "25%                   0.000000           0.000000             0.000000   \n",
       "50%                   0.000000           9.000000            11.000000   \n",
       "75%                   0.000000          38.000000            27.000000   \n",
       "max                   0.110000         210.000000           143.000000   \n",
       "\n",
       "       LightlyActiveMinutes  SedentaryMinutes     Calories  TotalSleepRecords  \\\n",
       "count            413.000000        413.000000   413.000000         413.000000   \n",
       "mean             216.854722        712.169492  2397.573850           1.118644   \n",
       "std               87.164687        165.957432   762.886326           0.345521   \n",
       "min                2.000000          0.000000   257.000000           1.000000   \n",
       "25%              158.000000        631.000000  1850.000000           1.000000   \n",
       "50%              208.000000        717.000000  2220.000000           1.000000   \n",
       "75%              263.000000        783.000000  2926.000000           1.000000   \n",
       "max              518.000000       1265.000000  4900.000000           3.000000   \n",
       "\n",
       "       TotalMinutesAsleep  TotalTimeInBed  \n",
       "count          413.000000      413.000000  \n",
       "mean           419.467312      458.639225  \n",
       "std            118.344679      127.101607  \n",
       "min             58.000000       61.000000  \n",
       "25%            361.000000      403.000000  \n",
       "50%            433.000000      463.000000  \n",
       "75%            490.000000      526.000000  \n",
       "max            796.000000      961.000000  "
      ]
     },
     "execution_count": 22,
     "metadata": {},
     "output_type": "execute_result"
    }
   ],
   "source": [
    "# Summary for activity and sleep data of a day\n",
    "daily_activity_merged.info()\n",
    "\n",
    "lst_cols = []\n",
    "for col in list(daily_activity_merged.columns.values):\n",
    "    if col not in ['Id', 'Date', 'Weekday']:\n",
    "        lst_cols.append(col)\n",
    "    \n",
    "daily_activity_merged[lst_cols].describe()\n"
   ]
  },
  {
   "cell_type": "code",
   "execution_count": 23,
   "id": "127d2f9a",
   "metadata": {},
   "outputs": [
    {
     "name": "stdout",
     "output_type": "stream",
     "text": [
      "<class 'pandas.core.frame.DataFrame'>\n",
      "Int64Index: 22099 entries, 0 to 22098\n",
      "Data columns (total 8 columns):\n",
      " #   Column            Non-Null Count  Dtype  \n",
      "---  ------            --------------  -----  \n",
      " 0   Id                22099 non-null  int64  \n",
      " 1   Calories          22099 non-null  int64  \n",
      " 2   Date              22099 non-null  object \n",
      " 3   Time              22099 non-null  object \n",
      " 4   TotalIntensity    22099 non-null  int64  \n",
      " 5   AverageIntensity  22099 non-null  float64\n",
      " 6   StepTotal         22099 non-null  int64  \n",
      " 7   Weekday           22099 non-null  object \n",
      "dtypes: float64(1), int64(4), object(3)\n",
      "memory usage: 1.5+ MB\n"
     ]
    },
    {
     "data": {
      "text/html": [
       "<div>\n",
       "<style scoped>\n",
       "    .dataframe tbody tr th:only-of-type {\n",
       "        vertical-align: middle;\n",
       "    }\n",
       "\n",
       "    .dataframe tbody tr th {\n",
       "        vertical-align: top;\n",
       "    }\n",
       "\n",
       "    .dataframe thead th {\n",
       "        text-align: right;\n",
       "    }\n",
       "</style>\n",
       "<table border=\"1\" class=\"dataframe\">\n",
       "  <thead>\n",
       "    <tr style=\"text-align: right;\">\n",
       "      <th></th>\n",
       "      <th>Calories</th>\n",
       "      <th>TotalIntensity</th>\n",
       "      <th>AverageIntensity</th>\n",
       "      <th>StepTotal</th>\n",
       "    </tr>\n",
       "  </thead>\n",
       "  <tbody>\n",
       "    <tr>\n",
       "      <th>count</th>\n",
       "      <td>22099.000000</td>\n",
       "      <td>22099.000000</td>\n",
       "      <td>22099.000000</td>\n",
       "      <td>22099.000000</td>\n",
       "    </tr>\n",
       "    <tr>\n",
       "      <th>mean</th>\n",
       "      <td>97.386760</td>\n",
       "      <td>12.035341</td>\n",
       "      <td>0.200589</td>\n",
       "      <td>320.166342</td>\n",
       "    </tr>\n",
       "    <tr>\n",
       "      <th>std</th>\n",
       "      <td>60.702622</td>\n",
       "      <td>21.133110</td>\n",
       "      <td>0.352219</td>\n",
       "      <td>690.384228</td>\n",
       "    </tr>\n",
       "    <tr>\n",
       "      <th>min</th>\n",
       "      <td>42.000000</td>\n",
       "      <td>0.000000</td>\n",
       "      <td>0.000000</td>\n",
       "      <td>0.000000</td>\n",
       "    </tr>\n",
       "    <tr>\n",
       "      <th>25%</th>\n",
       "      <td>63.000000</td>\n",
       "      <td>0.000000</td>\n",
       "      <td>0.000000</td>\n",
       "      <td>0.000000</td>\n",
       "    </tr>\n",
       "    <tr>\n",
       "      <th>50%</th>\n",
       "      <td>83.000000</td>\n",
       "      <td>3.000000</td>\n",
       "      <td>0.050000</td>\n",
       "      <td>40.000000</td>\n",
       "    </tr>\n",
       "    <tr>\n",
       "      <th>75%</th>\n",
       "      <td>108.000000</td>\n",
       "      <td>16.000000</td>\n",
       "      <td>0.266667</td>\n",
       "      <td>357.000000</td>\n",
       "    </tr>\n",
       "    <tr>\n",
       "      <th>max</th>\n",
       "      <td>948.000000</td>\n",
       "      <td>180.000000</td>\n",
       "      <td>3.000000</td>\n",
       "      <td>10554.000000</td>\n",
       "    </tr>\n",
       "  </tbody>\n",
       "</table>\n",
       "</div>"
      ],
      "text/plain": [
       "           Calories  TotalIntensity  AverageIntensity     StepTotal\n",
       "count  22099.000000    22099.000000      22099.000000  22099.000000\n",
       "mean      97.386760       12.035341          0.200589    320.166342\n",
       "std       60.702622       21.133110          0.352219    690.384228\n",
       "min       42.000000        0.000000          0.000000      0.000000\n",
       "25%       63.000000        0.000000          0.000000      0.000000\n",
       "50%       83.000000        3.000000          0.050000     40.000000\n",
       "75%      108.000000       16.000000          0.266667    357.000000\n",
       "max      948.000000      180.000000          3.000000  10554.000000"
      ]
     },
     "execution_count": 23,
     "metadata": {},
     "output_type": "execute_result"
    }
   ],
   "source": [
    "# Summary for activity data of a day recorded hourly \n",
    "hourly_activity_merged.info()\n",
    "\n",
    "lst_cols = []\n",
    "for col in list(hourly_activity_merged.columns.values):\n",
    "    if col not in ['Id', 'Date', 'Time', 'Weekday']:\n",
    "        lst_cols.append(col)\n",
    "    \n",
    "hourly_activity_merged[lst_cols].describe()\n"
   ]
  },
  {
   "cell_type": "markdown",
   "id": "2ce5d93b",
   "metadata": {},
   "source": [
    "# 3. Analyze"
   ]
  },
  {
   "cell_type": "markdown",
   "id": "a27adf82",
   "metadata": {},
   "source": [
    "## 3.1 Sleeping Behaviour"
   ]
  },
  {
   "cell_type": "markdown",
   "id": "73d87044",
   "metadata": {},
   "source": [
    "### 3.1.1 Time Asleep"
   ]
  },
  {
   "cell_type": "code",
   "execution_count": 24,
   "id": "523c3c43",
   "metadata": {},
   "outputs": [
    {
     "data": {
      "text/plain": [
       "Text(0.5, 1.0, 'Distribution of TIme Asleep')"
      ]
     },
     "execution_count": 24,
     "metadata": {},
     "output_type": "execute_result"
    },
    {
     "data": {
      "image/png": "[encoded data removed]",
      "text/plain": [
       "<Figure size 432x288 with 1 Axes>"
      ]
     },
     "metadata": {
      "needs_background": "light"
     },
     "output_type": "display_data"
    }
   ],
   "source": [
    "# Histogram of Time Asleep\n",
    "ax = daily_activity_merged['TotalMinutesAsleep'].plot.hist(grid=False)\n",
    "mean_asleep = daily_activity_merged['TotalMinutesAsleep'].mean()\n",
    "\n",
    "plt.axvline(mean_asleep, color='k', linestyle='dashed')\n",
    "plt.text(mean_asleep*0.3, 120 , f\"Mean: {mean_asleep/60:.2f} hours\")\n",
    "\n",
    "ax.set_xlabel(\"Minutes\")\n",
    "ax.set_title(\"Distribution of TIme Asleep\")"
   ]
  },
  {
   "cell_type": "code",
   "execution_count": 25,
   "id": "3fe9c2d5",
   "metadata": {},
   "outputs": [
    {
     "name": "stdout",
     "output_type": "stream",
     "text": [
      "44.07% of sleep records fall below 7 hours.\n"
     ]
    }
   ],
   "source": [
    "# Percentage of Sleeps below 7 hours of sleep \n",
    "percent_little_sleep = len(daily_activity_merged[daily_activity_merged['TotalMinutesAsleep'] < 7*60])/len(daily_activity_merged['TotalMinutesAsleep'])\n",
    "print(f\"{percent_little_sleep*100:.2f}% of sleep records fall below 7 hours.\")"
   ]
  },
  {
   "cell_type": "markdown",
   "id": "42a5fc93",
   "metadata": {},
   "source": [
    "Insight: The average duration of sleep barely reach the recommended hours of sleep of 7 hours for adults. Meanwhile, nearly half of the total records are below 7 hours."
   ]
  },
  {
   "cell_type": "markdown",
   "id": "99013fbd",
   "metadata": {},
   "source": [
    "### 3.1.2 Non-sleeping Bed Time"
   ]
  },
  {
   "cell_type": "code",
   "execution_count": 26,
   "id": "0b5fe798",
   "metadata": {},
   "outputs": [
    {
     "name": "stdout",
     "output_type": "stream",
     "text": [
      "Average Minutes of Awake Bed Time: 39.17 minutes\n"
     ]
    }
   ],
   "source": [
    "# Analysis of Bed Time\n",
    "\n",
    "daily_activity_merged['AwakeBedTime'] = daily_activity_merged['TotalTimeInBed'] - daily_activity_merged['TotalMinutesAsleep']\n",
    "print(f\"Average Minutes of Awake Bed Time: {daily_activity_merged['AwakeBedTime'].mean():.2f} minutes\")"
   ]
  },
  {
   "cell_type": "code",
   "execution_count": 27,
   "id": "1886f22d",
   "metadata": {},
   "outputs": [
    {
     "data": {
      "text/plain": [
       "Text(0.5, 1.0, 'Distribution of Awake Bed Time')"
      ]
     },
     "execution_count": 27,
     "metadata": {},
     "output_type": "execute_result"
    },
    {
     "data": {
      "image/png": "[encoded data removed]",
      "text/plain": [
       "<Figure size 432x288 with 1 Axes>"
      ]
     },
     "metadata": {
      "needs_background": "light"
     },
     "output_type": "display_data"
    }
   ],
   "source": [
    "# Histogram of Awake Bed Time\n",
    "ax = daily_activity_merged['AwakeBedTime'].plot.hist(grid=False)\n",
    "mean_awake = daily_activity_merged['AwakeBedTime'].mean()\n",
    "\n",
    "plt.axvline(mean_awake, color='k', linestyle='dashed')\n",
    "plt.text(60,250, f\"Mean: {mean_awake:.2f} minutes\")\n",
    "\n",
    "ax.set_xlabel(\"Minutes\")\n",
    "ax.set_title(\"Distribution of Awake Bed Time\")"
   ]
  },
  {
   "cell_type": "markdown",
   "id": "cac1ee97",
   "metadata": {},
   "source": [
    "Insight: Lower than normal length of time needed to fall asleep, which ranges between 10 to 20 minutes. It indicates the average users need improvement in falling asleep. "
   ]
  },
  {
   "cell_type": "markdown",
   "id": "97c6c9a2",
   "metadata": {},
   "source": [
    "### 3.1.3 Relationships between Physical Activities and Sleep Patterns"
   ]
  },
  {
   "cell_type": "code",
   "execution_count": 28,
   "id": "c5d3b75b",
   "metadata": {},
   "outputs": [
    {
     "data": {
      "image/png": "[encoded data removed]",
      "text/plain": [
       "<Figure size 432x288 with 1 Axes>"
      ]
     },
     "metadata": {
      "needs_background": "light"
     },
     "output_type": "display_data"
    }
   ],
   "source": [
    "# Relationships between physical activies and sleep\n",
    "ax = daily_activity_merged.plot.scatter(x='TotalSteps', y='TotalMinutesAsleep')"
   ]
  },
  {
   "cell_type": "markdown",
   "id": "117cd1b0",
   "metadata": {},
   "source": [
    "Insight: No clear pattern between physical activities and duration of sleep "
   ]
  },
  {
   "cell_type": "markdown",
   "id": "248d655d",
   "metadata": {},
   "source": [
    "## 3.2 Patterns of Physical Activities Across a Week"
   ]
  },
  {
   "cell_type": "code",
   "execution_count": 29,
   "id": "d61e85b0",
   "metadata": {},
   "outputs": [
    {
     "data": {
      "text/html": [
       "<div>\n",
       "<style scoped>\n",
       "    .dataframe tbody tr th:only-of-type {\n",
       "        vertical-align: middle;\n",
       "    }\n",
       "\n",
       "    .dataframe tbody tr th {\n",
       "        vertical-align: top;\n",
       "    }\n",
       "\n",
       "    .dataframe thead th {\n",
       "        text-align: right;\n",
       "    }\n",
       "</style>\n",
       "<table border=\"1\" class=\"dataframe\">\n",
       "  <thead>\n",
       "    <tr style=\"text-align: right;\">\n",
       "      <th></th>\n",
       "      <th>Id</th>\n",
       "      <th>TotalSteps</th>\n",
       "      <th>TotalDistance</th>\n",
       "      <th>LoggedActivitiesDistance</th>\n",
       "      <th>VeryActiveDistance</th>\n",
       "      <th>ModeratelyActiveDistance</th>\n",
       "      <th>LightActiveDistance</th>\n",
       "      <th>SedentaryActiveDistance</th>\n",
       "      <th>VeryActiveMinutes</th>\n",
       "      <th>FairlyActiveMinutes</th>\n",
       "      <th>LightlyActiveMinutes</th>\n",
       "      <th>SedentaryMinutes</th>\n",
       "      <th>Calories</th>\n",
       "      <th>TotalSleepRecords</th>\n",
       "      <th>TotalMinutesAsleep</th>\n",
       "      <th>TotalTimeInBed</th>\n",
       "      <th>AwakeBedTime</th>\n",
       "    </tr>\n",
       "    <tr>\n",
       "      <th>Weekday</th>\n",
       "      <th></th>\n",
       "      <th></th>\n",
       "      <th></th>\n",
       "      <th></th>\n",
       "      <th></th>\n",
       "      <th></th>\n",
       "      <th></th>\n",
       "      <th></th>\n",
       "      <th></th>\n",
       "      <th></th>\n",
       "      <th></th>\n",
       "      <th></th>\n",
       "      <th></th>\n",
       "      <th></th>\n",
       "      <th></th>\n",
       "      <th></th>\n",
       "      <th></th>\n",
       "    </tr>\n",
       "  </thead>\n",
       "  <tbody>\n",
       "    <tr>\n",
       "      <th>Monday</th>\n",
       "      <td>5.057965e+09</td>\n",
       "      <td>9339.851064</td>\n",
       "      <td>6.611064</td>\n",
       "      <td>0.349228</td>\n",
       "      <td>1.804894</td>\n",
       "      <td>0.786170</td>\n",
       "      <td>4.011915</td>\n",
       "      <td>0.002128</td>\n",
       "      <td>32.553191</td>\n",
       "      <td>19.021277</td>\n",
       "      <td>220.638298</td>\n",
       "      <td>717.851064</td>\n",
       "      <td>2465.446809</td>\n",
       "      <td>1.106383</td>\n",
       "      <td>418.829787</td>\n",
       "      <td>456.170213</td>\n",
       "      <td>37.340426</td>\n",
       "    </tr>\n",
       "    <tr>\n",
       "      <th>Tuesday</th>\n",
       "      <td>4.911466e+09</td>\n",
       "      <td>9182.692308</td>\n",
       "      <td>6.430000</td>\n",
       "      <td>0.138651</td>\n",
       "      <td>1.718462</td>\n",
       "      <td>0.816615</td>\n",
       "      <td>3.886615</td>\n",
       "      <td>0.001385</td>\n",
       "      <td>30.615385</td>\n",
       "      <td>20.046154</td>\n",
       "      <td>216.584615</td>\n",
       "      <td>740.046154</td>\n",
       "      <td>2496.200000</td>\n",
       "      <td>1.107692</td>\n",
       "      <td>404.538462</td>\n",
       "      <td>443.292308</td>\n",
       "      <td>38.753846</td>\n",
       "    </tr>\n",
       "    <tr>\n",
       "      <th>Wednesday</th>\n",
       "      <td>5.264718e+09</td>\n",
       "      <td>8022.863636</td>\n",
       "      <td>5.719849</td>\n",
       "      <td>0.095098</td>\n",
       "      <td>1.357879</td>\n",
       "      <td>0.704091</td>\n",
       "      <td>3.652121</td>\n",
       "      <td>0.000000</td>\n",
       "      <td>21.333333</td>\n",
       "      <td>16.742424</td>\n",
       "      <td>207.969697</td>\n",
       "      <td>714.454545</td>\n",
       "      <td>2378.242424</td>\n",
       "      <td>1.151515</td>\n",
       "      <td>434.681818</td>\n",
       "      <td>470.030303</td>\n",
       "      <td>35.348485</td>\n",
       "    </tr>\n",
       "    <tr>\n",
       "      <th>Thursday</th>\n",
       "      <td>5.023285e+09</td>\n",
       "      <td>8205.353846</td>\n",
       "      <td>5.798154</td>\n",
       "      <td>0.166784</td>\n",
       "      <td>1.241385</td>\n",
       "      <td>0.676615</td>\n",
       "      <td>3.717385</td>\n",
       "      <td>0.002769</td>\n",
       "      <td>22.692308</td>\n",
       "      <td>16.215385</td>\n",
       "      <td>202.876923</td>\n",
       "      <td>701.415385</td>\n",
       "      <td>2315.784615</td>\n",
       "      <td>1.030769</td>\n",
       "      <td>402.369231</td>\n",
       "      <td>435.800000</td>\n",
       "      <td>33.430769</td>\n",
       "    </tr>\n",
       "    <tr>\n",
       "      <th>Friday</th>\n",
       "      <td>4.922502e+09</td>\n",
       "      <td>7901.403509</td>\n",
       "      <td>5.511930</td>\n",
       "      <td>0.073409</td>\n",
       "      <td>1.134035</td>\n",
       "      <td>0.588070</td>\n",
       "      <td>3.779474</td>\n",
       "      <td>0.000175</td>\n",
       "      <td>21.157895</td>\n",
       "      <td>14.578947</td>\n",
       "      <td>222.684211</td>\n",
       "      <td>743.087719</td>\n",
       "      <td>2329.649123</td>\n",
       "      <td>1.070175</td>\n",
       "      <td>405.421053</td>\n",
       "      <td>445.052632</td>\n",
       "      <td>39.631579</td>\n",
       "    </tr>\n",
       "    <tr>\n",
       "      <th>Saturday</th>\n",
       "      <td>4.955573e+09</td>\n",
       "      <td>9948.689655</td>\n",
       "      <td>7.095690</td>\n",
       "      <td>0.000000</td>\n",
       "      <td>1.759655</td>\n",
       "      <td>0.986379</td>\n",
       "      <td>4.347241</td>\n",
       "      <td>0.000000</td>\n",
       "      <td>27.172414</td>\n",
       "      <td>23.120690</td>\n",
       "      <td>250.086207</td>\n",
       "      <td>678.655172</td>\n",
       "      <td>2527.172414</td>\n",
       "      <td>1.189655</td>\n",
       "      <td>420.810345</td>\n",
       "      <td>461.275862</td>\n",
       "      <td>40.465517</td>\n",
       "    </tr>\n",
       "    <tr>\n",
       "      <th>Sunday</th>\n",
       "      <td>4.844438e+09</td>\n",
       "      <td>7297.854545</td>\n",
       "      <td>5.184727</td>\n",
       "      <td>0.000000</td>\n",
       "      <td>1.190182</td>\n",
       "      <td>0.702545</td>\n",
       "      <td>3.289273</td>\n",
       "      <td>0.000000</td>\n",
       "      <td>22.145455</td>\n",
       "      <td>16.763636</td>\n",
       "      <td>200.036364</td>\n",
       "      <td>687.636364</td>\n",
       "      <td>2276.600000</td>\n",
       "      <td>1.181818</td>\n",
       "      <td>452.745455</td>\n",
       "      <td>503.509091</td>\n",
       "      <td>50.763636</td>\n",
       "    </tr>\n",
       "  </tbody>\n",
       "</table>\n",
       "</div>"
      ],
      "text/plain": [
       "                     Id   TotalSteps  TotalDistance  LoggedActivitiesDistance  \\\n",
       "Weekday                                                                         \n",
       "Monday     5.057965e+09  9339.851064       6.611064                  0.349228   \n",
       "Tuesday    4.911466e+09  9182.692308       6.430000                  0.138651   \n",
       "Wednesday  5.264718e+09  8022.863636       5.719849                  0.095098   \n",
       "Thursday   5.023285e+09  8205.353846       5.798154                  0.166784   \n",
       "Friday     4.922502e+09  7901.403509       5.511930                  0.073409   \n",
       "Saturday   4.955573e+09  9948.689655       7.095690                  0.000000   \n",
       "Sunday     4.844438e+09  7297.854545       5.184727                  0.000000   \n",
       "\n",
       "           VeryActiveDistance  ModeratelyActiveDistance  LightActiveDistance  \\\n",
       "Weekday                                                                        \n",
       "Monday               1.804894                  0.786170             4.011915   \n",
       "Tuesday              1.718462                  0.816615             3.886615   \n",
       "Wednesday            1.357879                  0.704091             3.652121   \n",
       "Thursday             1.241385                  0.676615             3.717385   \n",
       "Friday               1.134035                  0.588070             3.779474   \n",
       "Saturday             1.759655                  0.986379             4.347241   \n",
       "Sunday               1.190182                  0.702545             3.289273   \n",
       "\n",
       "           SedentaryActiveDistance  VeryActiveMinutes  FairlyActiveMinutes  \\\n",
       "Weekday                                                                      \n",
       "Monday                    0.002128          32.553191            19.021277   \n",
       "Tuesday                   0.001385          30.615385            20.046154   \n",
       "Wednesday                 0.000000          21.333333            16.742424   \n",
       "Thursday                  0.002769          22.692308            16.215385   \n",
       "Friday                    0.000175          21.157895            14.578947   \n",
       "Saturday                  0.000000          27.172414            23.120690   \n",
       "Sunday                    0.000000          22.145455            16.763636   \n",
       "\n",
       "           LightlyActiveMinutes  SedentaryMinutes     Calories  \\\n",
       "Weekday                                                          \n",
       "Monday               220.638298        717.851064  2465.446809   \n",
       "Tuesday              216.584615        740.046154  2496.200000   \n",
       "Wednesday            207.969697        714.454545  2378.242424   \n",
       "Thursday             202.876923        701.415385  2315.784615   \n",
       "Friday               222.684211        743.087719  2329.649123   \n",
       "Saturday             250.086207        678.655172  2527.172414   \n",
       "Sunday               200.036364        687.636364  2276.600000   \n",
       "\n",
       "           TotalSleepRecords  TotalMinutesAsleep  TotalTimeInBed  AwakeBedTime  \n",
       "Weekday                                                                         \n",
       "Monday              1.106383          418.829787      456.170213     37.340426  \n",
       "Tuesday             1.107692          404.538462      443.292308     38.753846  \n",
       "Wednesday           1.151515          434.681818      470.030303     35.348485  \n",
       "Thursday            1.030769          402.369231      435.800000     33.430769  \n",
       "Friday              1.070175          405.421053      445.052632     39.631579  \n",
       "Saturday            1.189655          420.810345      461.275862     40.465517  \n",
       "Sunday              1.181818          452.745455      503.509091     50.763636  "
      ]
     },
     "execution_count": 29,
     "metadata": {},
     "output_type": "execute_result"
    }
   ],
   "source": [
    "# Grouped as weekday - Analysis \n",
    "cats = ['Monday', 'Tuesday', 'Wednesday', 'Thursday', 'Friday', 'Saturday', 'Sunday']\n",
    "daily_activity_grouped = daily_activity_merged.groupby('Weekday').mean().reindex(cats)\n",
    "daily_activity_grouped"
   ]
  },
  {
   "cell_type": "markdown",
   "id": "6260e039",
   "metadata": {},
   "source": [
    "### 3.2.1 Daily Steps in a Week"
   ]
  },
  {
   "cell_type": "code",
   "execution_count": 30,
   "id": "8d438e2f",
   "metadata": {},
   "outputs": [
    {
     "data": {
      "text/plain": [
       "Text(1.5, 9300, 'Recommended Steps')"
      ]
     },
     "execution_count": 30,
     "metadata": {},
     "output_type": "execute_result"
    },
    {
     "data": {
      "image/png": "[encoded data removed]",
      "text/plain": [
       "<Figure size 360x288 with 1 Axes>"
      ]
     },
     "metadata": {
      "needs_background": "light"
     },
     "output_type": "display_data"
    }
   ],
   "source": [
    "daily_activity_grouped.plot.bar(y='TotalSteps', figsize=(5,4), width=0.7)\n",
    "\n",
    "plt.legend(bbox_to_anchor=(1.0, 1.0))\n",
    "plt.axhline(y=10000, color='k', linestyle='dashed')\n",
    "plt.text(1.5, 9300, \"Recommended Steps\")\n",
    "\n",
    "# Insights: \n",
    "# A proxy of overall physical activities -> when either steps/active minutes fall below standard -> reminder\n",
    "# Goals: 10000 steps\n",
    "# weekdays except Saturday < 10000 .'. suggest walk more "
   ]
  },
  {
   "cell_type": "markdown",
   "id": "e25385d8",
   "metadata": {},
   "source": [
    "Insights:\n",
    "\n",
    "Users walk less than 10,000 steps per day in most days. They tend to walk more on Saturday and reach the recommended steps of 10,000. "
   ]
  },
  {
   "cell_type": "markdown",
   "id": "48c1c7c3",
   "metadata": {},
   "source": [
    "### 3.2.2 Daily Active Minutes in a Week"
   ]
  },
  {
   "cell_type": "code",
   "execution_count": 31,
   "id": "14961e84",
   "metadata": {
    "scrolled": true
   },
   "outputs": [
    {
     "data": {
      "text/plain": [
       "<matplotlib.lines.Line2D at 0x7fdf08577040>"
      ]
     },
     "execution_count": 31,
     "metadata": {},
     "output_type": "execute_result"
    },
    {
     "data": {
      "image/png": "[encoded data removed]",
      "text/plain": [
       "<Figure size 360x288 with 1 Axes>"
      ]
     },
     "metadata": {
      "needs_background": "light"
     },
     "output_type": "display_data"
    }
   ],
   "source": [
    "daily_activity_grouped['ActiveMinutes'] = daily_activity_grouped['FairlyActiveMinutes'] + daily_activity_grouped['VeryActiveMinutes']\n",
    "daily_activity_grouped.plot.bar(y='ActiveMinutes', figsize=(5,4), width=0.7)\n",
    "\n",
    "plt.legend(bbox_to_anchor=(1.0, 1.0))\n",
    "plt.axhline(y=30, color='k', linestyle='dashed')\n",
    "\n",
    "# Q: Suggested active minutes? 30mins/day \n",
    "# Insights: \n",
    "# least active: Wed-Fri & Sunday"
   ]
  },
  {
   "cell_type": "markdown",
   "id": "86b5e284",
   "metadata": {},
   "source": [
    "Insights: \n",
    "\n",
    "Users are the least active from Wednesday to Friday and Sunday.\n",
    "\n",
    "Average active minutes meets the recommended duration of 30 minutes per day. One possible reason is that fitness device users tend to work out more. "
   ]
  },
  {
   "cell_type": "markdown",
   "id": "7c53b2f8",
   "metadata": {},
   "source": [
    "### 3.2.3 Analysis without Clear Patterns"
   ]
  },
  {
   "cell_type": "code",
   "execution_count": 32,
   "id": "b21d74df",
   "metadata": {},
   "outputs": [
    {
     "data": {
      "text/plain": [
       "<matplotlib.legend.Legend at 0x7fdef98d3b50>"
      ]
     },
     "execution_count": 32,
     "metadata": {},
     "output_type": "execute_result"
    },
    {
     "data": {
      "image/png": "[encoded data removed]",
      "text/plain": [
       "<Figure size 432x288 with 1 Axes>"
      ]
     },
     "metadata": {
      "needs_background": "light"
     },
     "output_type": "display_data"
    }
   ],
   "source": [
    "daily_activity_grouped.plot.bar(y='TotalMinutesAsleep')\n",
    "plt.legend(bbox_to_anchor=(1.0, 1.0))"
   ]
  },
  {
   "cell_type": "code",
   "execution_count": 33,
   "id": "b01d962e",
   "metadata": {},
   "outputs": [
    {
     "data": {
      "text/plain": [
       "<matplotlib.legend.Legend at 0x7fdee993d610>"
      ]
     },
     "execution_count": 33,
     "metadata": {},
     "output_type": "execute_result"
    },
    {
     "data": {
      "image/png": "[encoded data removed]",
      "text/plain": [
       "<Figure size 432x288 with 1 Axes>"
      ]
     },
     "metadata": {
      "needs_background": "light"
     },
     "output_type": "display_data"
    }
   ],
   "source": [
    "daily_activity_grouped.plot.bar(y='TotalTimeInBed')\n",
    "plt.legend(bbox_to_anchor=(1.0, 1.0))"
   ]
  },
  {
   "cell_type": "markdown",
   "id": "a44ae42f",
   "metadata": {},
   "source": [
    "Below are more analysis without obvious patterns"
   ]
  },
  {
   "cell_type": "code",
   "execution_count": 34,
   "id": "8ee521f2",
   "metadata": {},
   "outputs": [
    {
     "data": {
      "text/plain": [
       "<matplotlib.legend.Legend at 0x7fdf19f39040>"
      ]
     },
     "execution_count": 34,
     "metadata": {},
     "output_type": "execute_result"
    },
    {
     "data": {
      "image/png": "[encoded data removed]",
      "text/plain": [
       "<Figure size 432x288 with 1 Axes>"
      ]
     },
     "metadata": {
      "needs_background": "light"
     },
     "output_type": "display_data"
    }
   ],
   "source": [
    "daily_activity_grouped.plot.bar(y='SedentaryMinutes')\n",
    "plt.legend(bbox_to_anchor=(1.0, 1.0))"
   ]
  },
  {
   "cell_type": "code",
   "execution_count": 35,
   "id": "92c9c0b9",
   "metadata": {},
   "outputs": [
    {
     "data": {
      "text/plain": [
       "<matplotlib.legend.Legend at 0x7fdee9969580>"
      ]
     },
     "execution_count": 35,
     "metadata": {},
     "output_type": "execute_result"
    },
    {
     "data": {
      "image/png": "[encoded data removed]",
      "text/plain": [
       "<Figure size 432x288 with 1 Axes>"
      ]
     },
     "metadata": {
      "needs_background": "light"
     },
     "output_type": "display_data"
    }
   ],
   "source": [
    "daily_activity_grouped.plot.bar(y='Calories')\n",
    "plt.legend(bbox_to_anchor=(1.0, 1.0))"
   ]
  },
  {
   "cell_type": "markdown",
   "id": "2f3128c9",
   "metadata": {},
   "source": [
    "## 3.3 Patterns of Physical Activities in a Day"
   ]
  },
  {
   "cell_type": "code",
   "execution_count": 36,
   "id": "b712f1c4",
   "metadata": {},
   "outputs": [
    {
     "data": {
      "text/html": [
       "<div>\n",
       "<style scoped>\n",
       "    .dataframe tbody tr th:only-of-type {\n",
       "        vertical-align: middle;\n",
       "    }\n",
       "\n",
       "    .dataframe tbody tr th {\n",
       "        vertical-align: top;\n",
       "    }\n",
       "\n",
       "    .dataframe thead th {\n",
       "        text-align: right;\n",
       "    }\n",
       "</style>\n",
       "<table border=\"1\" class=\"dataframe\">\n",
       "  <thead>\n",
       "    <tr style=\"text-align: right;\">\n",
       "      <th></th>\n",
       "      <th>Id</th>\n",
       "      <th>Calories</th>\n",
       "      <th>Date</th>\n",
       "      <th>Time</th>\n",
       "      <th>TotalIntensity</th>\n",
       "      <th>AverageIntensity</th>\n",
       "      <th>StepTotal</th>\n",
       "      <th>Weekday</th>\n",
       "    </tr>\n",
       "  </thead>\n",
       "  <tbody>\n",
       "    <tr>\n",
       "      <th>0</th>\n",
       "      <td>1503960366</td>\n",
       "      <td>81</td>\n",
       "      <td>2016-04-12</td>\n",
       "      <td>00:00:00</td>\n",
       "      <td>20</td>\n",
       "      <td>0.333333</td>\n",
       "      <td>373</td>\n",
       "      <td>Tuesday</td>\n",
       "    </tr>\n",
       "    <tr>\n",
       "      <th>1</th>\n",
       "      <td>1503960366</td>\n",
       "      <td>61</td>\n",
       "      <td>2016-04-12</td>\n",
       "      <td>01:00:00</td>\n",
       "      <td>8</td>\n",
       "      <td>0.133333</td>\n",
       "      <td>160</td>\n",
       "      <td>Tuesday</td>\n",
       "    </tr>\n",
       "    <tr>\n",
       "      <th>2</th>\n",
       "      <td>1503960366</td>\n",
       "      <td>59</td>\n",
       "      <td>2016-04-12</td>\n",
       "      <td>02:00:00</td>\n",
       "      <td>7</td>\n",
       "      <td>0.116667</td>\n",
       "      <td>151</td>\n",
       "      <td>Tuesday</td>\n",
       "    </tr>\n",
       "    <tr>\n",
       "      <th>3</th>\n",
       "      <td>1503960366</td>\n",
       "      <td>47</td>\n",
       "      <td>2016-04-12</td>\n",
       "      <td>03:00:00</td>\n",
       "      <td>0</td>\n",
       "      <td>0.000000</td>\n",
       "      <td>0</td>\n",
       "      <td>Tuesday</td>\n",
       "    </tr>\n",
       "    <tr>\n",
       "      <th>4</th>\n",
       "      <td>1503960366</td>\n",
       "      <td>48</td>\n",
       "      <td>2016-04-12</td>\n",
       "      <td>04:00:00</td>\n",
       "      <td>0</td>\n",
       "      <td>0.000000</td>\n",
       "      <td>0</td>\n",
       "      <td>Tuesday</td>\n",
       "    </tr>\n",
       "    <tr>\n",
       "      <th>...</th>\n",
       "      <td>...</td>\n",
       "      <td>...</td>\n",
       "      <td>...</td>\n",
       "      <td>...</td>\n",
       "      <td>...</td>\n",
       "      <td>...</td>\n",
       "      <td>...</td>\n",
       "      <td>...</td>\n",
       "    </tr>\n",
       "    <tr>\n",
       "      <th>22094</th>\n",
       "      <td>8877689391</td>\n",
       "      <td>126</td>\n",
       "      <td>2016-05-12</td>\n",
       "      <td>10:00:00</td>\n",
       "      <td>12</td>\n",
       "      <td>0.200000</td>\n",
       "      <td>514</td>\n",
       "      <td>Thursday</td>\n",
       "    </tr>\n",
       "    <tr>\n",
       "      <th>22095</th>\n",
       "      <td>8877689391</td>\n",
       "      <td>192</td>\n",
       "      <td>2016-05-12</td>\n",
       "      <td>11:00:00</td>\n",
       "      <td>29</td>\n",
       "      <td>0.483333</td>\n",
       "      <td>1407</td>\n",
       "      <td>Thursday</td>\n",
       "    </tr>\n",
       "    <tr>\n",
       "      <th>22096</th>\n",
       "      <td>8877689391</td>\n",
       "      <td>321</td>\n",
       "      <td>2016-05-12</td>\n",
       "      <td>12:00:00</td>\n",
       "      <td>93</td>\n",
       "      <td>1.550000</td>\n",
       "      <td>3135</td>\n",
       "      <td>Thursday</td>\n",
       "    </tr>\n",
       "    <tr>\n",
       "      <th>22097</th>\n",
       "      <td>8877689391</td>\n",
       "      <td>101</td>\n",
       "      <td>2016-05-12</td>\n",
       "      <td>13:00:00</td>\n",
       "      <td>6</td>\n",
       "      <td>0.100000</td>\n",
       "      <td>307</td>\n",
       "      <td>Thursday</td>\n",
       "    </tr>\n",
       "    <tr>\n",
       "      <th>22098</th>\n",
       "      <td>8877689391</td>\n",
       "      <td>113</td>\n",
       "      <td>2016-05-12</td>\n",
       "      <td>14:00:00</td>\n",
       "      <td>9</td>\n",
       "      <td>0.150000</td>\n",
       "      <td>457</td>\n",
       "      <td>Thursday</td>\n",
       "    </tr>\n",
       "  </tbody>\n",
       "</table>\n",
       "<p>22099 rows × 8 columns</p>\n",
       "</div>"
      ],
      "text/plain": [
       "               Id  Calories        Date      Time  TotalIntensity  \\\n",
       "0      1503960366        81  2016-04-12  00:00:00              20   \n",
       "1      1503960366        61  2016-04-12  01:00:00               8   \n",
       "2      1503960366        59  2016-04-12  02:00:00               7   \n",
       "3      1503960366        47  2016-04-12  03:00:00               0   \n",
       "4      1503960366        48  2016-04-12  04:00:00               0   \n",
       "...           ...       ...         ...       ...             ...   \n",
       "22094  8877689391       126  2016-05-12  10:00:00              12   \n",
       "22095  8877689391       192  2016-05-12  11:00:00              29   \n",
       "22096  8877689391       321  2016-05-12  12:00:00              93   \n",
       "22097  8877689391       101  2016-05-12  13:00:00               6   \n",
       "22098  8877689391       113  2016-05-12  14:00:00               9   \n",
       "\n",
       "       AverageIntensity  StepTotal   Weekday  \n",
       "0              0.333333        373   Tuesday  \n",
       "1              0.133333        160   Tuesday  \n",
       "2              0.116667        151   Tuesday  \n",
       "3              0.000000          0   Tuesday  \n",
       "4              0.000000          0   Tuesday  \n",
       "...                 ...        ...       ...  \n",
       "22094          0.200000        514  Thursday  \n",
       "22095          0.483333       1407  Thursday  \n",
       "22096          1.550000       3135  Thursday  \n",
       "22097          0.100000        307  Thursday  \n",
       "22098          0.150000        457  Thursday  \n",
       "\n",
       "[22099 rows x 8 columns]"
      ]
     },
     "execution_count": 36,
     "metadata": {},
     "output_type": "execute_result"
    }
   ],
   "source": [
    "hourly_activity_merged"
   ]
  },
  {
   "cell_type": "markdown",
   "id": "c4540d09",
   "metadata": {},
   "source": [
    "### 3.3.1 Number of Steps in Different Time"
   ]
  },
  {
   "cell_type": "code",
   "execution_count": 37,
   "id": "826a4b68",
   "metadata": {
    "scrolled": true
   },
   "outputs": [],
   "source": [
    "# Group by Time\n",
    "\n",
    "hourly_activity_grouped = hourly_activity_merged.groupby('Time').mean()"
   ]
  },
  {
   "cell_type": "code",
   "execution_count": 42,
   "id": "280a5502",
   "metadata": {},
   "outputs": [
    {
     "data": {
      "text/plain": [
       "Text(0.5, 1.0, 'Steps Throughout the Day')"
      ]
     },
     "execution_count": 42,
     "metadata": {},
     "output_type": "execute_result"
    },
    {
     "data": {
      "image/png": "[encoded data removed]",
      "text/plain": [
       "<Figure size 576x360 with 1 Axes>"
      ]
     },
     "metadata": {
      "needs_background": "light"
     },
     "output_type": "display_data"
    }
   ],
   "source": [
    "# Histogram of Steps Across a Day\n",
    "ax = hourly_activity_grouped.plot.bar(y='StepTotal', figsize=(8,5))\n",
    "\n",
    "ax.legend(bbox_to_anchor=(1.3, 1.0))\n",
    "ax.axhline(y=hourly_activity_grouped['StepTotal'].mean(), color='k', linestyle='dashed')\n",
    "ax.text(0.5, hourly_activity_grouped['StepTotal'].mean()*0.9, \"Average Steps\")\n",
    "ax.set_ylabel(\"Number of Steps\")\n",
    "ax.set_title(\"Steps Throughout the Day\")"
   ]
  },
  {
   "cell_type": "markdown",
   "id": "a762c486",
   "metadata": {},
   "source": [
    "Insights: \n",
    "\n",
    "Users are the most active around noon and late-afternoon. "
   ]
  },
  {
   "cell_type": "markdown",
   "id": "f8fed360",
   "metadata": {},
   "source": [
    "# 4. Insights and Strategy Suggestions"
   ]
  },
  {
   "cell_type": "markdown",
   "id": "7ee65d11",
   "metadata": {},
   "source": [
    "## 4.1 Key Insights"
   ]
  },
  {
   "cell_type": "markdown",
   "id": "9efbb645",
   "metadata": {},
   "source": [
    "1. Many users do not have enough sleep. Nearly half of the users do not sleep for the amount of 7 hours, which is the recommended length of sleep for adults.\n",
    "2. Many users need help in falling asleep. Their required time to fall asleep is longer than the that of normal sleeper cycle.\n",
    "3. The average users do not have sufficient walk except on Saturday.\n",
    "4. Users are the least active on Wednesday, Thursday, Friday and Sunday.\n",
    "5. Users are the most active aroudn noon (11:00-14:00) and late-afternoon (17:00-19:00)."
   ]
  },
  {
   "cell_type": "markdown",
   "id": "e1707fd6",
   "metadata": {},
   "source": [
    "## 4.2 Marketing Strategy Suggestions"
   ]
  },
  {
   "cell_type": "markdown",
   "id": "3893a8ed",
   "metadata": {},
   "source": [
    "1. Service of Personalized Sleep Assistant: Establish a sleep schedule based on the users' input or anlaysis of sleep data. Send notifications one hour before the target bedtime to remind users to turn off their screens. Reminder to go to bed when it has reached the target bedtime. \n",
    "This value-added function of the smart device may increase customer satisfaction and loyalty."
   ]
  },
  {
   "cell_type": "markdown",
   "id": "e293bd6b",
   "metadata": {},
   "source": [
    "2. Point-generating Achievement: First, let users set a daily goals of activity (e.g. number of steps, active time etc.). When users are working towards the daily goals, they get points. During certain hours of the day where the average users are the most active (noon and late-afternoon), they get bonus points if they exercises. Then, establish a rank where users compete with other users. "
   ]
  }
 ],
 "metadata": {
  "kernelspec": {
   "display_name": "Python 3 (ipykernel)",
   "language": "python",
   "name": "python3"
  },
  "language_info": {
   "codemirror_mode": {
    "name": "ipython",
    "version": 3
   },
   "file_extension": ".py",
   "mimetype": "text/x-python",
   "name": "python",
   "nbconvert_exporter": "python",
   "pygments_lexer": "ipython3",
   "version": "3.9.12"
  }
 },
 "nbformat": 4,
 "nbformat_minor": 5
}
